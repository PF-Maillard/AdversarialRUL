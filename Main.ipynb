{
 "cells": [
  {
   "cell_type": "code",
   "execution_count": 25,
   "id": "a9da9fa8",
   "metadata": {},
   "outputs": [
    {
     "name": "stdout",
     "output_type": "stream",
     "text": [
      "Defaulting to user installation because normal site-packages is not writeable\n",
      "\u001b[33mWARNING: Ignoring invalid distribution -orch (/home/pierre/.local/lib/python3.10/site-packages)\u001b[0m\u001b[33m\n",
      "\u001b[0mRequirement already satisfied: pandas in ./.local/lib/python3.10/site-packages (2.1.4)\n",
      "Requirement already satisfied: numpy<2,>=1.22.4 in ./.local/lib/python3.10/site-packages (from pandas) (1.24.1)\n",
      "Requirement already satisfied: python-dateutil>=2.8.2 in ./.local/lib/python3.10/site-packages (from pandas) (2.8.2)\n",
      "Requirement already satisfied: pytz>=2020.1 in /usr/lib/python3/dist-packages (from pandas) (2022.1)\n",
      "Requirement already satisfied: tzdata>=2022.1 in ./.local/lib/python3.10/site-packages (from pandas) (2023.4)\n",
      "Requirement already satisfied: six>=1.5 in /usr/lib/python3/dist-packages (from python-dateutil>=2.8.2->pandas) (1.16.0)\n",
      "\u001b[33mWARNING: Ignoring invalid distribution -orch (/home/pierre/.local/lib/python3.10/site-packages)\u001b[0m\u001b[33m\n",
      "\u001b[0m\n",
      "\u001b[1m[\u001b[0m\u001b[34;49mnotice\u001b[0m\u001b[1;39;49m]\u001b[0m\u001b[39;49m A new release of pip is available: \u001b[0m\u001b[31;49m24.0\u001b[0m\u001b[39;49m -> \u001b[0m\u001b[32;49m24.1.2\u001b[0m\n",
      "\u001b[1m[\u001b[0m\u001b[34;49mnotice\u001b[0m\u001b[1;39;49m]\u001b[0m\u001b[39;49m To update, run: \u001b[0m\u001b[32;49mpip install --upgrade pip\u001b[0m\n",
      "Defaulting to user installation because normal site-packages is not writeable\n",
      "\u001b[33mWARNING: Ignoring invalid distribution -orch (/home/pierre/.local/lib/python3.10/site-packages)\u001b[0m\u001b[33m\n",
      "\u001b[0mRequirement already satisfied: numpy in ./.local/lib/python3.10/site-packages (1.24.1)\n",
      "\u001b[33mWARNING: Ignoring invalid distribution -orch (/home/pierre/.local/lib/python3.10/site-packages)\u001b[0m\u001b[33m\n",
      "\u001b[0m\n",
      "\u001b[1m[\u001b[0m\u001b[34;49mnotice\u001b[0m\u001b[1;39;49m]\u001b[0m\u001b[39;49m A new release of pip is available: \u001b[0m\u001b[31;49m24.0\u001b[0m\u001b[39;49m -> \u001b[0m\u001b[32;49m24.1.2\u001b[0m\n",
      "\u001b[1m[\u001b[0m\u001b[34;49mnotice\u001b[0m\u001b[1;39;49m]\u001b[0m\u001b[39;49m To update, run: \u001b[0m\u001b[32;49mpip install --upgrade pip\u001b[0m\n",
      "Defaulting to user installation because normal site-packages is not writeable\n",
      "\u001b[33mWARNING: Ignoring invalid distribution -orch (/home/pierre/.local/lib/python3.10/site-packages)\u001b[0m\u001b[33m\n",
      "\u001b[0mRequirement already satisfied: torch in ./.local/lib/python3.10/site-packages (2.2.1)\n",
      "Requirement already satisfied: filelock in ./.local/lib/python3.10/site-packages (from torch) (3.9.0)\n",
      "Requirement already satisfied: typing-extensions>=4.8.0 in ./.local/lib/python3.10/site-packages (from torch) (4.10.0)\n",
      "Requirement already satisfied: sympy in ./.local/lib/python3.10/site-packages (from torch) (1.11.1)\n",
      "Requirement already satisfied: networkx in ./.local/lib/python3.10/site-packages (from torch) (2.8.8)\n",
      "Requirement already satisfied: jinja2 in ./.local/lib/python3.10/site-packages (from torch) (3.1.2)\n",
      "Requirement already satisfied: fsspec in ./.local/lib/python3.10/site-packages (from torch) (2024.2.0)\n",
      "Requirement already satisfied: nvidia-cuda-nvrtc-cu12==12.1.105 in ./.local/lib/python3.10/site-packages (from torch) (12.1.105)\n",
      "Requirement already satisfied: nvidia-cuda-runtime-cu12==12.1.105 in ./.local/lib/python3.10/site-packages (from torch) (12.1.105)\n",
      "Requirement already satisfied: nvidia-cuda-cupti-cu12==12.1.105 in ./.local/lib/python3.10/site-packages (from torch) (12.1.105)\n",
      "Requirement already satisfied: nvidia-cudnn-cu12==8.9.2.26 in ./.local/lib/python3.10/site-packages (from torch) (8.9.2.26)\n",
      "Requirement already satisfied: nvidia-cublas-cu12==12.1.3.1 in ./.local/lib/python3.10/site-packages (from torch) (12.1.3.1)\n",
      "Requirement already satisfied: nvidia-cufft-cu12==11.0.2.54 in ./.local/lib/python3.10/site-packages (from torch) (11.0.2.54)\n",
      "Requirement already satisfied: nvidia-curand-cu12==10.3.2.106 in ./.local/lib/python3.10/site-packages (from torch) (10.3.2.106)\n",
      "Requirement already satisfied: nvidia-cusolver-cu12==11.4.5.107 in ./.local/lib/python3.10/site-packages (from torch) (11.4.5.107)\n",
      "Requirement already satisfied: nvidia-cusparse-cu12==12.1.0.106 in ./.local/lib/python3.10/site-packages (from torch) (12.1.0.106)\n",
      "Requirement already satisfied: nvidia-nccl-cu12==2.19.3 in ./.local/lib/python3.10/site-packages (from torch) (2.19.3)\n",
      "Requirement already satisfied: nvidia-nvtx-cu12==12.1.105 in ./.local/lib/python3.10/site-packages (from torch) (12.1.105)\n",
      "Requirement already satisfied: triton==2.2.0 in ./.local/lib/python3.10/site-packages (from torch) (2.2.0)\n",
      "Requirement already satisfied: nvidia-nvjitlink-cu12 in ./.local/lib/python3.10/site-packages (from nvidia-cusolver-cu12==11.4.5.107->torch) (12.3.101)\n",
      "Requirement already satisfied: MarkupSafe>=2.0 in ./.local/lib/python3.10/site-packages (from jinja2->torch) (2.1.5)\n",
      "Requirement already satisfied: mpmath>=0.19 in ./.local/lib/python3.10/site-packages (from sympy->torch) (1.2.1)\n",
      "\u001b[33mWARNING: Ignoring invalid distribution -orch (/home/pierre/.local/lib/python3.10/site-packages)\u001b[0m\u001b[33m\n",
      "\u001b[0m\n",
      "\u001b[1m[\u001b[0m\u001b[34;49mnotice\u001b[0m\u001b[1;39;49m]\u001b[0m\u001b[39;49m A new release of pip is available: \u001b[0m\u001b[31;49m24.0\u001b[0m\u001b[39;49m -> \u001b[0m\u001b[32;49m24.1.2\u001b[0m\n",
      "\u001b[1m[\u001b[0m\u001b[34;49mnotice\u001b[0m\u001b[1;39;49m]\u001b[0m\u001b[39;49m To update, run: \u001b[0m\u001b[32;49mpip install --upgrade pip\u001b[0m\n",
      "Defaulting to user installation because normal site-packages is not writeable\n",
      "\u001b[33mWARNING: Ignoring invalid distribution -orch (/home/pierre/.local/lib/python3.10/site-packages)\u001b[0m\u001b[33m\n",
      "\u001b[0mRequirement already satisfied: tqdm in ./.local/lib/python3.10/site-packages (4.66.1)\n",
      "\u001b[33mWARNING: Ignoring invalid distribution -orch (/home/pierre/.local/lib/python3.10/site-packages)\u001b[0m\u001b[33m\n",
      "\u001b[0m\n",
      "\u001b[1m[\u001b[0m\u001b[34;49mnotice\u001b[0m\u001b[1;39;49m]\u001b[0m\u001b[39;49m A new release of pip is available: \u001b[0m\u001b[31;49m24.0\u001b[0m\u001b[39;49m -> \u001b[0m\u001b[32;49m24.1.2\u001b[0m\n",
      "\u001b[1m[\u001b[0m\u001b[34;49mnotice\u001b[0m\u001b[1;39;49m]\u001b[0m\u001b[39;49m To update, run: \u001b[0m\u001b[32;49mpip install --upgrade pip\u001b[0m\n",
      "Defaulting to user installation because normal site-packages is not writeable\n",
      "\u001b[33mWARNING: Ignoring invalid distribution -orch (/home/pierre/.local/lib/python3.10/site-packages)\u001b[0m\u001b[33m\n",
      "\u001b[0mRequirement already satisfied: matplotlib in ./.local/lib/python3.10/site-packages (3.7.3)\n",
      "Requirement already satisfied: contourpy>=1.0.1 in ./.local/lib/python3.10/site-packages (from matplotlib) (1.2.1)\n",
      "Requirement already satisfied: cycler>=0.10 in ./.local/lib/python3.10/site-packages (from matplotlib) (0.11.0)\n",
      "Requirement already satisfied: fonttools>=4.22.0 in ./.local/lib/python3.10/site-packages (from matplotlib) (4.42.1)\n",
      "Requirement already satisfied: kiwisolver>=1.0.1 in ./.local/lib/python3.10/site-packages (from matplotlib) (1.4.5)\n",
      "Requirement already satisfied: numpy<2,>=1.20 in ./.local/lib/python3.10/site-packages (from matplotlib) (1.24.1)\n",
      "Requirement already satisfied: packaging>=20.0 in ./.local/lib/python3.10/site-packages (from matplotlib) (23.1)\n",
      "Requirement already satisfied: pillow>=6.2.0 in /usr/lib/python3/dist-packages (from matplotlib) (9.0.1)\n",
      "Requirement already satisfied: pyparsing>=2.3.1 in /usr/lib/python3/dist-packages (from matplotlib) (2.4.7)\n",
      "Requirement already satisfied: python-dateutil>=2.7 in ./.local/lib/python3.10/site-packages (from matplotlib) (2.8.2)\n",
      "Requirement already satisfied: six>=1.5 in /usr/lib/python3/dist-packages (from python-dateutil>=2.7->matplotlib) (1.16.0)\n",
      "\u001b[33mWARNING: Ignoring invalid distribution -orch (/home/pierre/.local/lib/python3.10/site-packages)\u001b[0m\u001b[33m\n",
      "\u001b[0m\n",
      "\u001b[1m[\u001b[0m\u001b[34;49mnotice\u001b[0m\u001b[1;39;49m]\u001b[0m\u001b[39;49m A new release of pip is available: \u001b[0m\u001b[31;49m24.0\u001b[0m\u001b[39;49m -> \u001b[0m\u001b[32;49m24.1.2\u001b[0m\n",
      "\u001b[1m[\u001b[0m\u001b[34;49mnotice\u001b[0m\u001b[1;39;49m]\u001b[0m\u001b[39;49m To update, run: \u001b[0m\u001b[32;49mpip install --upgrade pip\u001b[0m\n",
      "Defaulting to user installation because normal site-packages is not writeable\n",
      "\u001b[33mWARNING: Ignoring invalid distribution -orch (/home/pierre/.local/lib/python3.10/site-packages)\u001b[0m\u001b[33m\n",
      "\u001b[0mRequirement already satisfied: scipy in ./.local/lib/python3.10/site-packages (1.11.2)\n",
      "Requirement already satisfied: numpy<1.28.0,>=1.21.6 in ./.local/lib/python3.10/site-packages (from scipy) (1.24.1)\n",
      "\u001b[33mWARNING: Ignoring invalid distribution -orch (/home/pierre/.local/lib/python3.10/site-packages)\u001b[0m\u001b[33m\n",
      "\u001b[0m\n",
      "\u001b[1m[\u001b[0m\u001b[34;49mnotice\u001b[0m\u001b[1;39;49m]\u001b[0m\u001b[39;49m A new release of pip is available: \u001b[0m\u001b[31;49m24.0\u001b[0m\u001b[39;49m -> \u001b[0m\u001b[32;49m24.1.2\u001b[0m\n",
      "\u001b[1m[\u001b[0m\u001b[34;49mnotice\u001b[0m\u001b[1;39;49m]\u001b[0m\u001b[39;49m To update, run: \u001b[0m\u001b[32;49mpip install --upgrade pip\u001b[0m\n"
     ]
    }
   ],
   "source": [
    "!pip install pandas\n",
    "!pip install numpy\n",
    "!pip install torch\n",
    "!pip install tqdm\n",
    "!pip install matplotlib\n",
    "!pip install scipy"
   ]
  },
  {
   "cell_type": "code",
   "execution_count": 26,
   "id": "b10920c7",
   "metadata": {
    "execution": {
     "iopub.execute_input": "2022-11-23T15:41:07.424260Z",
     "iopub.status.busy": "2022-11-23T15:41:07.423547Z",
     "iopub.status.idle": "2022-11-23T15:41:09.327810Z",
     "shell.execute_reply": "2022-11-23T15:41:09.326355Z"
    },
    "papermill": {
     "duration": 1.918804,
     "end_time": "2022-11-23T15:41:09.331049",
     "exception": false,
     "start_time": "2022-11-23T15:41:07.412245",
     "status": "completed"
    },
    "tags": []
   },
   "outputs": [],
   "source": [
    "from os import listdir\n",
    "import pandas as pd\n",
    "import numpy as np\n",
    "\n",
    "import torch\n",
    "from torch.utils.data import DataLoader\n",
    "\n",
    "import Sources.Utils as UtilsTool\n",
    "import Sources.Attacks as AttacksTool\n",
    "import Sources.Data as DataTool\n",
    "from Sources.Models import RNNModel, GRUModel, LSTMModel"
   ]
  },
  {
   "cell_type": "code",
   "execution_count": 27,
   "id": "85000d04",
   "metadata": {},
   "outputs": [],
   "source": [
    "pd.set_option('display.max_columns', 50)\n",
    "pd.set_option('display.max_rows', 50)\n",
    "\n",
    "DisplayGraph = 0\n",
    "TrainMode = 0\n",
    "OptimizeParameters = 0\n",
    "\n",
    "DatasetPath = 'DatasetRUL/'\n",
    "ModelPath = 'Models/'\n",
    "NormalOutputPath = 'ResultsRUL/Normal/'\n",
    "AdversarialOutputPath = 'ResultsRUL/Adversarial/'\n",
    "OptimalParametersPath = 'ResultsRUL/OptimalParameters/'\n",
    "FiguresPath = 'ResultsRUL/Figures/'\n",
    "\n",
    "window = 80"
   ]
  },
  {
   "cell_type": "code",
   "execution_count": 28,
   "id": "99a09448",
   "metadata": {},
   "outputs": [
    {
     "name": "stdout",
     "output_type": "stream",
     "text": [
      "Using device: cuda\n"
     ]
    }
   ],
   "source": [
    "device = torch.device(\"cuda\" if torch.cuda.is_available() else \"cpu\")\n",
    "print(f\"Using device: {device}\")"
   ]
  },
  {
   "cell_type": "code",
   "execution_count": 29,
   "id": "727cd407",
   "metadata": {
    "execution": {
     "iopub.execute_input": "2022-11-23T15:41:09.371162Z",
     "iopub.status.busy": "2022-11-23T15:41:09.369654Z",
     "iopub.status.idle": "2022-11-23T15:41:09.688330Z",
     "shell.execute_reply": "2022-11-23T15:41:09.687086Z"
    },
    "papermill": {
     "duration": 0.331643,
     "end_time": "2022-11-23T15:41:09.690880",
     "exception": false,
     "start_time": "2022-11-23T15:41:09.359237",
     "status": "completed"
    },
    "tags": []
   },
   "outputs": [],
   "source": [
    "listdir(DatasetPath)\n",
    "\n",
    "df_train = pd.read_csv(DatasetPath + 'train_FD001.txt', header = None, sep = ' ')\n",
    "df_test = pd.read_csv(DatasetPath + 'test_FD001.txt', header = None, sep = ' ')\n",
    "rul_test = pd.read_csv(DatasetPath + 'RUL_FD001.txt', header = None)"
   ]
  },
  {
   "cell_type": "code",
   "execution_count": 30,
   "id": "b064a33d",
   "metadata": {
    "execution": {
     "iopub.execute_input": "2022-11-23T15:41:09.736166Z",
     "iopub.status.busy": "2022-11-23T15:41:09.735740Z",
     "iopub.status.idle": "2022-11-23T15:41:09.812797Z",
     "shell.execute_reply": "2022-11-23T15:41:09.811536Z"
    },
    "papermill": {
     "duration": 0.091155,
     "end_time": "2022-11-23T15:41:09.815373",
     "exception": false,
     "start_time": "2022-11-23T15:41:09.724218",
     "status": "completed"
    },
    "tags": []
   },
   "outputs": [],
   "source": [
    "df_train, df_test, rul_test = DataTool.SetDatasets(df_train, df_test, rul_test)"
   ]
  },
  {
   "cell_type": "code",
   "execution_count": 31,
   "id": "ea46a2d8",
   "metadata": {
    "execution": {
     "iopub.execute_input": "2022-11-23T15:41:14.752510Z",
     "iopub.status.busy": "2022-11-23T15:41:14.752105Z",
     "iopub.status.idle": "2022-11-23T15:41:14.816285Z",
     "shell.execute_reply": "2022-11-23T15:41:14.815113Z"
    },
    "papermill": {
     "duration": 0.091725,
     "end_time": "2022-11-23T15:41:14.819125",
     "exception": false,
     "start_time": "2022-11-23T15:41:14.727400",
     "status": "completed"
    },
    "tags": []
   },
   "outputs": [],
   "source": [
    "minmax_dict = DataTool.GetMinMaxDictionnary(df_train)\n",
    "Ndf_train  = DataTool.NormalizeDataset(df_train, minmax_dict)    \n",
    "Ndf_test  = DataTool.NormalizeDataset(df_test, minmax_dict)   "
   ]
  },
  {
   "cell_type": "code",
   "execution_count": 32,
   "id": "a63fb82b",
   "metadata": {
    "execution": {
     "iopub.execute_input": "2022-11-23T15:41:20.981489Z",
     "iopub.status.busy": "2022-11-23T15:41:20.980892Z",
     "iopub.status.idle": "2022-11-23T15:41:20.987713Z",
     "shell.execute_reply": "2022-11-23T15:41:20.986262Z"
    },
    "papermill": {
     "duration": 0.044458,
     "end_time": "2022-11-23T15:41:20.990277",
     "exception": false,
     "start_time": "2022-11-23T15:41:20.945819",
     "status": "completed"
    },
    "tags": []
   },
   "outputs": [],
   "source": [
    "n_features = len([c for c in Ndf_train.columns if 's' in c])"
   ]
  },
  {
   "cell_type": "code",
   "execution_count": 33,
   "id": "4c6b0dd4",
   "metadata": {
    "execution": {
     "iopub.execute_input": "2022-11-23T15:41:21.126530Z",
     "iopub.status.busy": "2022-11-23T15:41:21.125398Z",
     "iopub.status.idle": "2022-11-23T15:41:21.132885Z",
     "shell.execute_reply": "2022-11-23T15:41:21.131463Z"
    },
    "papermill": {
     "duration": 0.045,
     "end_time": "2022-11-23T15:41:21.135314",
     "exception": false,
     "start_time": "2022-11-23T15:41:21.090314",
     "status": "completed"
    },
    "tags": []
   },
   "outputs": [],
   "source": [
    "np.random.seed(5)\n",
    "torch.manual_seed(5)\n",
    "\n",
    "units = np.arange(1,101)\n",
    "train_units = list(np.random.choice(units, 80, replace = False))\n",
    "val_units = list(set(units) - set(train_units))\n",
    "\n",
    "train_data = Ndf_train[Ndf_train['unit'].isin(train_units)].copy()\n",
    "val_data = Ndf_train[Ndf_train['unit'].isin(val_units)].copy()\n",
    "\n",
    "train_indices = list(train_data[(train_data['rul'] >= (window - 1)) & (train_data['time'] > 10)].index)\n",
    "val_indices = list(val_data[(val_data['rul'] >= (window - 1)) & (val_data['time'] > 10)].index)\n",
    "\n",
    "train = DataTool.data(train_indices, Ndf_train, window)\n",
    "val = DataTool.data(val_indices, Ndf_train, window)\n",
    "\n",
    "trainloader = DataLoader(train, batch_size = 64, shuffle = True)\n",
    "valloader = DataLoader(val, batch_size = len(val_indices), shuffle = True)\n",
    "\n",
    "\n",
    "UnitBySize = Ndf_test.groupby('unit')['time'].max().tolist()\n",
    "Units = []\n",
    "for i in range(len(UnitBySize)):\n",
    "    if UnitBySize[i] > window:\n",
    "        Units.append(i+1)\n",
    "\n",
    "testdataset = DataTool.test(Ndf_test, window)\n",
    "testloader = DataLoader(testdataset, batch_size = 100)\n"
   ]
  },
  {
   "cell_type": "code",
   "execution_count": 34,
   "id": "2f17f2e2",
   "metadata": {
    "execution": {
     "iopub.execute_input": "2022-11-23T15:41:21.973759Z",
     "iopub.status.busy": "2022-11-23T15:41:21.972943Z",
     "iopub.status.idle": "2022-11-23T16:08:07.459582Z",
     "shell.execute_reply": "2022-11-23T16:08:07.458414Z"
    },
    "papermill": {
     "duration": 1605.563583,
     "end_time": "2022-11-23T16:08:07.502071",
     "exception": false,
     "start_time": "2022-11-23T15:41:21.938488",
     "status": "completed"
    },
    "tags": []
   },
   "outputs": [],
   "source": [
    "if TrainMode == 1:\n",
    "    epochs = 30\n",
    "    learning_rate= 0.001\n",
    "    \n",
    "    MyRNNModel = RNNModel(n_features, 12).to(device)\n",
    "    UtilsTool.InitModel(MyRNNModel, device)\n",
    "    UtilsTool.TrainModel(MyRNNModel, trainloader, valloader, epochs, learning_rate, device)        \n",
    "    torch.save(MyRNNModel, ModelPath + 'MyRNNmodel.pth')\n",
    "\n",
    "    MyGRUModel = GRUModel(n_features, 12).to(device)\n",
    "    UtilsTool.InitModel(MyGRUModel, device)\n",
    "    UtilsTool.TrainModel(MyGRUModel, trainloader, valloader, epochs, learning_rate, device)        \n",
    "    torch.save(MyGRUModel, ModelPath + 'MyGRUmodel.pth')\n",
    "\n",
    "    MyLSTMModel = LSTMModel(n_features, 12).to(device)\n",
    "    UtilsTool.InitModel(MyLSTMModel, device)\n",
    "    UtilsTool.TrainModel(MyLSTMModel, trainloader, valloader, epochs, learning_rate, device)     \n",
    "    torch.save(MyLSTMModel, ModelPath + 'MyLSTMmodel.pth')\n",
    "else:\n",
    "    MyRNNModel = torch.load(ModelPath + 'MyRNNmodel.pth')\n",
    "    MyGRUModel = torch.load(ModelPath + 'MyGRUmodel.pth')\n",
    "    MyLSTMModel = torch.load(ModelPath + 'MyLSTMmodel.pth')"
   ]
  },
  {
   "cell_type": "code",
   "execution_count": 35,
   "id": "c1efae74",
   "metadata": {},
   "outputs": [],
   "source": [
    "MyRNNModel = MyRNNModel.to(device)\n",
    "MyGRUModel = MyGRUModel.to(device)\n",
    "MyLSTMModel = MyLSTMModel.to(device)"
   ]
  },
  {
   "cell_type": "markdown",
   "id": "15a2d305",
   "metadata": {
    "papermill": {
     "duration": 0.041459,
     "end_time": "2022-11-23T16:08:48.445943",
     "exception": false,
     "start_time": "2022-11-23T16:08:48.404484",
     "status": "completed"
    },
    "tags": []
   },
   "source": [
    "![](./animation3.gif)"
   ]
  },
  {
   "cell_type": "code",
   "execution_count": 36,
   "id": "2adc90d3",
   "metadata": {
    "execution": {
     "iopub.execute_input": "2022-11-23T16:08:48.617567Z",
     "iopub.status.busy": "2022-11-23T16:08:48.616798Z",
     "iopub.status.idle": "2022-11-23T16:08:48.818815Z",
     "shell.execute_reply": "2022-11-23T16:08:48.817568Z"
    },
    "papermill": {
     "duration": 0.248564,
     "end_time": "2022-11-23T16:08:48.821338",
     "exception": false,
     "start_time": "2022-11-23T16:08:48.572774",
     "status": "completed"
    },
    "tags": []
   },
   "outputs": [
    {
     "name": "stdout",
     "output_type": "stream",
     "text": [
      "RNN: MSE:459.84, L1:14.86, RMSE:21.44\n",
      "GRU: MSE:187.28, L1:9.44, RMSE:13.69\n",
      "LSTM: MSE:239.46, L1:10.61, RMSE:15.47\n"
     ]
    }
   ],
   "source": [
    "mse, l1, Rrmse, y_pred_rnn, y = UtilsTool.test(MyRNNModel, testloader, device)\n",
    "print(f'RNN: MSE:{round(mse,2)}, L1:{round(l1,2)}, RMSE:{round(Rrmse,2)}')\n",
    "mse, l1, Rrmse, y_pred_gru, y = UtilsTool.test(MyGRUModel, testloader, device)\n",
    "print(f'GRU: MSE:{round(mse,2)}, L1:{round(l1,2)}, RMSE:{round(Rrmse,2)}')\n",
    "mse, l1, Rrmse, y_pred_lstm, y = UtilsTool.test(MyLSTMModel, testloader, device)\n",
    "print(f'LSTM: MSE:{round(mse,2)}, L1:{round(l1,2)}, RMSE:{round(Rrmse,2)}')"
   ]
  },
  {
   "cell_type": "code",
   "execution_count": 37,
   "id": "d4c88912",
   "metadata": {
    "execution": {
     "iopub.execute_input": "2022-11-23T16:08:48.904412Z",
     "iopub.status.busy": "2022-11-23T16:08:48.903742Z",
     "iopub.status.idle": "2022-11-23T16:08:49.171955Z",
     "shell.execute_reply": "2022-11-23T16:08:49.170690Z"
    },
    "papermill": {
     "duration": 0.312838,
     "end_time": "2022-11-23T16:08:49.174595",
     "exception": false,
     "start_time": "2022-11-23T16:08:48.861757",
     "status": "completed"
    },
    "tags": []
   },
   "outputs": [],
   "source": [
    "if DisplayGraph == 1:\n",
    "    UtilsTool.DisplayGraph(y_pred_rnn, y, FiguresPath, \"NormalRNNDetection\")\n",
    "    UtilsTool.DisplayGraph(y_pred_gru, y, FiguresPath, \"NormalGRUDetection\")\n",
    "    UtilsTool.DisplayGraph(y_pred_lstm, y, FiguresPath, \"NormalLSTMDetection\")"
   ]
  },
  {
   "cell_type": "code",
   "execution_count": 38,
   "id": "ba3e1b99",
   "metadata": {},
   "outputs": [
    {
     "name": "stdout",
     "output_type": "stream",
     "text": [
      "RNN\n",
      "FGSM: {'RealRUL': 64.4935073852539, 'Objective': 0, 'PredRUL': 41.668636322021484, 'RMSE_adversarial': 0.05490428954362869, 'RMSE_pred': 31.824527740478516, 'L0': tensor(24.)}\n",
      "BIM: {'RealRUL': 64.4935073852539, 'Objective': 0, 'PredRUL': 21.016260147094727, 'RMSE_adversarial': 0.051802560687065125, 'RMSE_pred': 51.003746032714844, 'L0': tensor(24.)}\n",
      "CW: {'RealRUL': 64.4935073852539, 'Objective': 0, 'PredRUL': 0.0031628403812646866, 'RMSE_adversarial': 0.04933729022741318, 'RMSE_pred': 75.99961853027344, 'L0': tensor(24.)}\n",
      "\n",
      "GRU\n",
      "FGSM: {'RealRUL': 64.4935073852539, 'Objective': 0, 'PredRUL': 18.43494415283203, 'RMSE_adversarial': 0.054831214249134064, 'RMSE_pred': 57.1057014465332, 'L0': tensor(24.)}\n",
      "BIM: {'RealRUL': 64.4935073852539, 'Objective': 0, 'PredRUL': 2.5615804195404053, 'RMSE_adversarial': 0.05220765992999077, 'RMSE_pred': 72.80780792236328, 'L0': tensor(23.9351)}\n",
      "CW: {'RealRUL': 64.4935073852539, 'Objective': 0, 'PredRUL': 0.3970373868942261, 'RMSE_adversarial': 0.05328387767076492, 'RMSE_pred': 75.54335021972656, 'L0': tensor(24.)}\n",
      "\n",
      "LSTM\n",
      "FGSM: {'RealRUL': 64.4935073852539, 'Objective': 0, 'PredRUL': 37.14725112915039, 'RMSE_adversarial': 0.049549251794815063, 'RMSE_pred': 38.51206588745117, 'L0': tensor(23.9351)}\n",
      "BIM: {'RealRUL': 64.4935073852539, 'Objective': 0, 'PredRUL': 8.877349853515625, 'RMSE_adversarial': 0.04884544387459755, 'RMSE_pred': 63.981475830078125, 'L0': tensor(23.9091)}\n",
      "CW: {'RealRUL': 64.4935073852539, 'Objective': 0, 'PredRUL': 0.00826435536146164, 'RMSE_adversarial': 0.050048477947711945, 'RMSE_pred': 75.9942855834961, 'L0': tensor(23.9870)}\n"
     ]
    }
   ],
   "source": [
    "testloaderAttack = DataLoader(testloader.dataset, batch_size=100, shuffle=False)\n",
    "X, y = next(iter(testloaderAttack))\n",
    "X, y = X.to(device), y.to(device)\n",
    "\n",
    "AttacksParameters = {\n",
    "    \"FGSM\": {\n",
    "        \"Objective\": 300,\n",
    "        \"Epsilon\": 0.06\n",
    "    },\n",
    "    \"BIM\": {\n",
    "        \"Objective\": 300,\n",
    "        \"Iterations\": 120,\n",
    "        \"Epsilon\": 0.001\n",
    "    },\n",
    "    \"CW\": {\n",
    "        \"Objective\": 0,\n",
    "        \"Iterations\": 1000,\n",
    "        \"LearningRate\": 0.01,\n",
    "        \"c\": 0.02,\n",
    "    }\n",
    "}\n",
    "\n",
    "print(\"RNN\")\n",
    "RNNAdversarialDataFgsm, RNNAdversarialDataBim, RNNAdversarialDataCW = AttacksTool.TestAttacks(MyRNNModel, X, y, AttacksParameters, device)\n",
    "print()\n",
    "\n",
    "AttacksParameters = {\n",
    "    \"FGSM\": {\n",
    "        \"Objective\": 300,\n",
    "        \"Epsilon\": 0.060\n",
    "    },\n",
    "    \"BIM\": {\n",
    "        \"Objective\": 300,\n",
    "        \"Iterations\": 65,\n",
    "        \"Epsilon\": 0.001\n",
    "    },\n",
    "    \"CW\": {\n",
    "        \"Objective\": 0,\n",
    "        \"Iterations\": 1000,\n",
    "        \"LearningRate\": 0.01,\n",
    "        \"c\": 0.002,\n",
    "    }\n",
    "}\n",
    "\n",
    "print(\"GRU\")\n",
    "GRUAdversarialDataFgsm, GRUAdversarialDataBim, GRUAdversarialDataCW = AttacksTool.TestAttacks(MyGRUModel, X, y, AttacksParameters, device)\n",
    "print()\n",
    "\n",
    "AttacksParameters = {\n",
    "    \"FGSM\": {\n",
    "        \"Objective\": 300,\n",
    "        \"Epsilon\": 0.055\n",
    "    },\n",
    "    \"BIM\": {\n",
    "        \"Objective\": 300,\n",
    "        \"Iterations\": 90,\n",
    "        \"Epsilon\": 0.001\n",
    "    },\n",
    "    \"CW\": {\n",
    "        \"Objective\": 0,\n",
    "        \"Iterations\": 1000,\n",
    "        \"LearningRate\": 0.01,\n",
    "        \"c\": 0.004,\n",
    "    }\n",
    "}\n",
    "\n",
    "print(\"LSTM\")\n",
    "LSTMAdversarialDataFgsm, LSTMAdversarialDataBim, LSTMAdversarialDataCW = AttacksTool.TestAttacks(MyLSTMModel, X, y, AttacksParameters, device)"
   ]
  },
  {
   "cell_type": "code",
   "execution_count": 39,
   "id": "f459d878",
   "metadata": {},
   "outputs": [
    {
     "name": "stdout",
     "output_type": "stream",
     "text": [
      "RNN\n",
      "Initial: {'RealRUL': 64.4935073852539, 'Objective': 0, 'PredRUL': 41.668636322021484, 'RMSE_adversarial': 0.05490428954362869, 'RMSE_pred': 31.824527740478516, 'L0': tensor(24.)}\n",
      "Formated: {'RealRUL': 64.4935073852539, 'Objective': 0, 'PredRUL': 43.07719802856445, 'RMSE_adversarial': 0.05165189132094383, 'RMSE_pred': 30.74812889099121, 'L0': tensor(16.)}\n",
      "\n",
      "Initial: {'RealRUL': 64.4935073852539, 'Objective': 0, 'PredRUL': 21.016260147094727, 'RMSE_adversarial': 0.051802560687065125, 'RMSE_pred': 51.003746032714844, 'L0': tensor(24.)}\n",
      "Formated: {'RealRUL': 64.4935073852539, 'Objective': 0, 'PredRUL': 23.815214157104492, 'RMSE_adversarial': 0.04548564553260803, 'RMSE_pred': 48.335350036621094, 'L0': tensor(16.)}\n",
      "\n",
      "Initial: {'RealRUL': 64.4935073852539, 'Objective': 0, 'PredRUL': 0.0031628403812646866, 'RMSE_adversarial': 0.04933729022741318, 'RMSE_pred': 75.99961853027344, 'L0': tensor(24.)}\n",
      "Formated: {'RealRUL': 64.4935073852539, 'Objective': 0, 'PredRUL': 1.9371377229690552, 'RMSE_adversarial': 0.045177850872278214, 'RMSE_pred': 74.07440948486328, 'L0': tensor(16.0649)}\n",
      "\n",
      "GRU\n",
      "Initial: {'RealRUL': 64.4935073852539, 'Objective': 0, 'PredRUL': 18.43494415283203, 'RMSE_adversarial': 0.054831214249134064, 'RMSE_pred': 57.1057014465332, 'L0': tensor(24.)}\n",
      "Formated: {'RealRUL': 64.4935073852539, 'Objective': 0, 'PredRUL': 18.954708099365234, 'RMSE_adversarial': 0.051650188863277435, 'RMSE_pred': 56.794071197509766, 'L0': tensor(16.)}\n",
      "\n",
      "Initial: {'RealRUL': 64.4935073852539, 'Objective': 0, 'PredRUL': 2.5615804195404053, 'RMSE_adversarial': 0.05220765992999077, 'RMSE_pred': 72.80780792236328, 'L0': tensor(23.9351)}\n",
      "Formated: {'RealRUL': 64.4935073852539, 'Objective': 0, 'PredRUL': 3.472785472869873, 'RMSE_adversarial': 0.047238606959581375, 'RMSE_pred': 71.7912368774414, 'L0': tensor(16.)}\n",
      "\n",
      "Initial: {'RealRUL': 64.4935073852539, 'Objective': 0, 'PredRUL': 0.3970373868942261, 'RMSE_adversarial': 0.05328387767076492, 'RMSE_pred': 75.54335021972656, 'L0': tensor(24.)}\n",
      "Formated: {'RealRUL': 64.4935073852539, 'Objective': 0, 'PredRUL': 1.1737908124923706, 'RMSE_adversarial': 0.04757121577858925, 'RMSE_pred': 74.73128509521484, 'L0': tensor(15.6883)}\n",
      "\n",
      "LSTM\n",
      "Initial: {'RealRUL': 64.4935073852539, 'Objective': 0, 'PredRUL': 37.14725112915039, 'RMSE_adversarial': 0.049549251794815063, 'RMSE_pred': 38.51206588745117, 'L0': tensor(23.9351)}\n",
      "Formated: {'RealRUL': 64.4935073852539, 'Objective': 0, 'PredRUL': 34.73725128173828, 'RMSE_adversarial': 0.048849280923604965, 'RMSE_pred': 40.84073257446289, 'L0': tensor(16.)}\n",
      "\n",
      "Initial: {'RealRUL': 64.4935073852539, 'Objective': 0, 'PredRUL': 8.877349853515625, 'RMSE_adversarial': 0.04884544387459755, 'RMSE_pred': 63.981475830078125, 'L0': tensor(23.9091)}\n",
      "Formated: {'RealRUL': 64.4935073852539, 'Objective': 0, 'PredRUL': 12.692155838012695, 'RMSE_adversarial': 0.045347265899181366, 'RMSE_pred': 59.84923553466797, 'L0': tensor(16.)}\n",
      "\n",
      "Initial: {'RealRUL': 64.4935073852539, 'Objective': 0, 'PredRUL': 0.00826435536146164, 'RMSE_adversarial': 0.050048477947711945, 'RMSE_pred': 75.9942855834961, 'L0': tensor(23.9870)}\n",
      "Formated: {'RealRUL': 64.4935073852539, 'Objective': 0, 'PredRUL': 4.727651596069336, 'RMSE_adversarial': 0.04528125375509262, 'RMSE_pred': 70.60424041748047, 'L0': tensor(15.6364)}\n",
      "\n"
     ]
    }
   ],
   "source": [
    "print(\"RNN\")\n",
    "PRNNAdversarialDataFgsm = UtilsTool.TestProjectionCost(testloaderAttack, X, RNNAdversarialDataFgsm, MyRNNModel, minmax_dict, window, device)\n",
    "PRNNAdversarialDataBim = UtilsTool.TestProjectionCost(testloaderAttack, X, RNNAdversarialDataBim, MyRNNModel, minmax_dict, window, device)\n",
    "PRNNAdversarialDataCW = UtilsTool.TestProjectionCost(testloaderAttack, X, RNNAdversarialDataCW, MyRNNModel, minmax_dict, window, device)\n",
    "\n",
    "print(\"GRU\")\n",
    "PGRUAdversarialDataFgsm = UtilsTool.TestProjectionCost(testloaderAttack, X, GRUAdversarialDataFgsm, MyGRUModel, minmax_dict, window, device)\n",
    "PGRUAdversarialDataBim = UtilsTool.TestProjectionCost(testloaderAttack, X, GRUAdversarialDataBim, MyGRUModel, minmax_dict, window, device)\n",
    "PGRUAdversarialDataCW = UtilsTool.TestProjectionCost(testloaderAttack, X, GRUAdversarialDataCW, MyGRUModel, minmax_dict, window, device)\n",
    "\n",
    "print(\"LSTM\")\n",
    "PLSTMAdversarialDataFgsm = UtilsTool.TestProjectionCost(testloaderAttack, X, LSTMAdversarialDataFgsm, MyLSTMModel, minmax_dict, window, device)\n",
    "PLSTMAdversarialDataBim = UtilsTool.TestProjectionCost(testloaderAttack, X, LSTMAdversarialDataBim, MyLSTMModel, minmax_dict, window, device)\n",
    "PLSTMAdversarialDataCW = UtilsTool.TestProjectionCost(testloaderAttack, X, LSTMAdversarialDataCW, MyLSTMModel, minmax_dict, window, device)"
   ]
  },
  {
   "cell_type": "code",
   "execution_count": 40,
   "id": "93a98970",
   "metadata": {},
   "outputs": [],
   "source": [
    "UtilsTool.CreateDFSFiles(testloaderAttack, X, PRNNAdversarialDataFgsm, y, MyRNNModel, minmax_dict, NormalOutputPath + \"/RNN\", AdversarialOutputPath + \"/RNN\" + \"/FGSM\", device)\n",
    "UtilsTool.CreateDFSFiles(testloaderAttack, X, PRNNAdversarialDataBim, y, MyRNNModel, minmax_dict, NormalOutputPath + \"/RNN\", AdversarialOutputPath + \"/RNN\" + \"/BIM\", device)\n",
    "UtilsTool.CreateDFSFiles(testloaderAttack, X, PRNNAdversarialDataCW, y, MyRNNModel, minmax_dict, NormalOutputPath + \"/RNN\", AdversarialOutputPath + \"/RNN\" + \"/CW\", device)\n",
    "\n",
    "UtilsTool.CreateDFSFiles(testloaderAttack, X, PGRUAdversarialDataFgsm, y, MyGRUModel, minmax_dict, NormalOutputPath + \"/GRU\", AdversarialOutputPath + \"/GRU\" + \"/FGSM\", device)\n",
    "UtilsTool.CreateDFSFiles(testloaderAttack, X, PGRUAdversarialDataBim, y, MyGRUModel, minmax_dict, NormalOutputPath + \"/GRU\", AdversarialOutputPath + \"/GRU\" + \"/BIM\", device)\n",
    "UtilsTool.CreateDFSFiles(testloaderAttack, X, PGRUAdversarialDataCW, y, MyGRUModel, minmax_dict, NormalOutputPath + \"/GRU\", AdversarialOutputPath + \"/GRU\" + \"/CW\", device)\n",
    "\n",
    "UtilsTool.CreateDFSFiles(testloaderAttack, X, PLSTMAdversarialDataFgsm, y, MyLSTMModel, minmax_dict, NormalOutputPath + \"/LSTM\", AdversarialOutputPath + \"/LSTM\" + \"/FGSM\", device)\n",
    "UtilsTool.CreateDFSFiles(testloaderAttack, X, PLSTMAdversarialDataBim, y, MyLSTMModel, minmax_dict, NormalOutputPath + \"/LSTM\", AdversarialOutputPath + \"/LSTM\" + \"/BIM\", device)\n",
    "UtilsTool.CreateDFSFiles(testloaderAttack, X, PLSTMAdversarialDataCW, y, MyLSTMModel, minmax_dict, NormalOutputPath + \"/LSTM\", AdversarialOutputPath + \"/LSTM\" + \"/CW\", device)"
   ]
  },
  {
   "cell_type": "code",
   "execution_count": 41,
   "id": "088c7da7",
   "metadata": {},
   "outputs": [],
   "source": [
    "if DisplayGraph == 1:\n",
    "    y_pred = MyRNNModel(PRNNAdversarialDataFgsm)\n",
    "    UtilsTool.DisplayGraph(y_pred, y, FiguresPath, \"FGSMRNNDetection\")\n",
    "    y_pred = MyRNNModel(PRNNAdversarialDataBim)\n",
    "    UtilsTool.DisplayGraph(y_pred, y, FiguresPath, \"BIMRNNDetection\")\n",
    "    y_pred = MyRNNModel(PRNNAdversarialDataCW)\n",
    "    UtilsTool.DisplayGraph(y_pred, y, FiguresPath, \"CWRNNDetection\")"
   ]
  },
  {
   "cell_type": "code",
   "execution_count": 42,
   "id": "b19f48e6",
   "metadata": {},
   "outputs": [],
   "source": [
    "if DisplayGraph == 1:\n",
    "    y_pred = MyGRUModel(PGRUAdversarialDataFgsm)\n",
    "    UtilsTool.DisplayGraph(y_pred, y, FiguresPath, \"FGSMGRUDetection\")\n",
    "    y_pred = MyGRUModel(PGRUAdversarialDataBim)\n",
    "    UtilsTool.DisplayGraph(y_pred, y, FiguresPath, \"BIMGRUDetection\")\n",
    "    y_pred = MyGRUModel(PGRUAdversarialDataCW)\n",
    "    UtilsTool.DisplayGraph(y_pred, y, FiguresPath, \"CWGRUDetection\")"
   ]
  },
  {
   "cell_type": "code",
   "execution_count": 43,
   "id": "30247cec",
   "metadata": {},
   "outputs": [],
   "source": [
    "if DisplayGraph == 1:\n",
    "    y_pred = MyLSTMModel(PLSTMAdversarialDataFgsm)\n",
    "    UtilsTool.DisplayGraph(y_pred, y, FiguresPath, \"FGSMLSTMDetection\")\n",
    "    y_pred = MyLSTMModel(PLSTMAdversarialDataBim)\n",
    "    UtilsTool.DisplayGraph(y_pred, y, FiguresPath, \"BIMLSTMDetection\")\n",
    "    y_pred = MyLSTMModel(PLSTMAdversarialDataCW)\n",
    "    UtilsTool.DisplayGraph(y_pred, y, FiguresPath, \"CWLSTMDetection\")"
   ]
  },
  {
   "cell_type": "code",
   "execution_count": 44,
   "id": "e13f4b6f",
   "metadata": {},
   "outputs": [],
   "source": [
    "if OptimizeParameters == 1:\n",
    "    AttacksTool.OptimizeParameters(X, y, MyRNNModel, OptimalParametersPath, 2, \"RNN\", device)\n",
    "    AttacksTool.OptimizeParameters(X, y, MyGRUModel, OptimalParametersPath, 2, \"GRU\", device)\n",
    "    AttacksTool.OptimizeParameters(X, y, MyLSTMModel, OptimalParametersPath, 2, \"LSTM\", device)"
   ]
  },
  {
   "cell_type": "code",
   "execution_count": 45,
   "id": "06c85e0d",
   "metadata": {},
   "outputs": [],
   "source": [
    "if DisplayGraph == 1:\n",
    "    UtilsTool.AnalyzeK(3, OptimalParametersPath + \"OptimizeKGRU.txt\", OptimalParametersPath)   \n",
    "    UtilsTool.AnalyzePS(3, OptimalParametersPath + \"OptimizePSGRU.txt\", OptimalParametersPath)   "
   ]
  },
  {
   "cell_type": "code",
   "execution_count": 46,
   "id": "4a7ba7d5",
   "metadata": {},
   "outputs": [],
   "source": [
    "if DisplayGraph == 1:\n",
    "    AttacksParametersMaillard = {\n",
    "        \"Maillard\": {\n",
    "            \"Objective\": 0,\n",
    "            \"Iterations\": 1000,\n",
    "            \"LearningRate\": 0.01,\n",
    "            \"Initial_c\": 1,\n",
    "            \"Final_c\": 0.001,\n",
    "            \"Steps_c\":2,\n",
    "            \"k\": 2,\n",
    "            \"P\": 8,\n",
    "            \"S\": 0.1\n",
    "        }\n",
    "    }\n",
    "    AttacksTool.TestNewAttacks(MyRNNModel, X, y, AttacksParametersMaillard, device, FiguresPath, \"NewAttackRNN_C_\")\n",
    "    \n",
    "    AttacksParametersMaillard = {\n",
    "        \"Maillard\": {\n",
    "            \"Objective\": 0,\n",
    "            \"Iterations\": 1000,\n",
    "            \"LearningRate\": 0.01,\n",
    "            \"Initial_c\": 1,\n",
    "            \"Final_c\": 0.001,\n",
    "            \"Steps_c\":2,\n",
    "            \"k\": 2,\n",
    "            \"P\": 1,\n",
    "            \"S\": 0.1\n",
    "\n",
    "        }\n",
    "    }\n",
    "    AttacksTool.TestNewAttacks(MyGRUModel, X, y, AttacksParametersMaillard, device, FiguresPath, \"NewAttackGRU_C_\")\n",
    "    \n",
    "    AttacksParametersMaillard = {\n",
    "        \"Maillard\": {\n",
    "            \"Objective\": 0,\n",
    "            \"Iterations\": 1000,\n",
    "            \"LearningRate\": 0.01,\n",
    "            \"Initial_c\": 1,\n",
    "            \"Final_c\": 0.001,\n",
    "            \"Steps_c\":2,\n",
    "            \"k\": 2,\n",
    "            \"P\": 1,\n",
    "            \"S\": 0.1\n",
    "\n",
    "        }\n",
    "    }\n",
    "    AttacksTool.TestNewAttacks(MyLSTMModel, X, y, AttacksParametersMaillard, device, FiguresPath, \"NewAttackLSTM_C_\")"
   ]
  },
  {
   "cell_type": "code",
   "execution_count": 47,
   "id": "f4a61137",
   "metadata": {},
   "outputs": [
    {
     "name": "stdout",
     "output_type": "stream",
     "text": [
      "Maillard-L2: {'RealRUL': 64.4935073852539, 'Objective': 0, 'PredRUL': 3.246049642562866, 'RMSE_adversarial': 0.02930368110537529, 'RMSE_pred': 72.78682708740234, 'L0': tensor(23.8442)}\n",
      "Maillard-L2: {'RealRUL': 64.4935073852539, 'Objective': 0, 'PredRUL': 4.1624932289123535, 'RMSE_adversarial': 0.021223703399300575, 'RMSE_pred': 72.27922821044922, 'L0': tensor(24.)}\n",
      "Maillard-L2: {'RealRUL': 64.4935073852539, 'Objective': 0, 'PredRUL': 3.2048587799072266, 'RMSE_adversarial': 0.02967594750225544, 'RMSE_pred': 72.72103881835938, 'L0': tensor(23.8182)}\n"
     ]
    }
   ],
   "source": [
    "RNNAdversarialDataMaillardL2 = AttacksTool.MaillardL2(MyRNNModel, 0, X.float(), y.float(), 0.01, 1, 1000, device)\n",
    "Infos = UtilsTool.GetInfos(X, y, 0, RNNAdversarialDataMaillardL2, MyRNNModel)\n",
    "print(\"Maillard-L2:\", Infos)\n",
    "\n",
    "GRUAdversarialDataMaillardL2 = AttacksTool.MaillardL2(MyGRUModel, 0, X.float(), y.float(), 0.01, 1, 1000, device)\n",
    "Infos = UtilsTool.GetInfos(X, y, 0, GRUAdversarialDataMaillardL2, MyGRUModel)\n",
    "print(\"Maillard-L2:\", Infos)\n",
    "\n",
    "LSTMAdversarialDataMaillardL2 = AttacksTool.MaillardL2(MyLSTMModel, 0, X.float(), y.float(), 0.01, 1, 1000, device)\n",
    "Infos = UtilsTool.GetInfos(X, y, 0, LSTMAdversarialDataMaillardL2, MyLSTMModel)\n",
    "print(\"Maillard-L2:\", Infos)\n"
   ]
  },
  {
   "cell_type": "code",
   "execution_count": 48,
   "id": "d3c0cf36",
   "metadata": {},
   "outputs": [
    {
     "ename": "KeyboardInterrupt",
     "evalue": "",
     "output_type": "error",
     "traceback": [
      "\u001b[0;31m---------------------------------------------------------------------------\u001b[0m",
      "\u001b[0;31mKeyboardInterrupt\u001b[0m                         Traceback (most recent call last)",
      "Cell \u001b[0;32mIn[48], line 1\u001b[0m\n\u001b[0;32m----> 1\u001b[0m RNNAdversarialDataMaillardL0 \u001b[38;5;241m=\u001b[39m \u001b[43mAttacksTool\u001b[49m\u001b[38;5;241;43m.\u001b[39;49m\u001b[43mMaillardL0\u001b[49m\u001b[43m(\u001b[49m\u001b[43mMyRNNModel\u001b[49m\u001b[43m,\u001b[49m\u001b[43m \u001b[49m\u001b[38;5;241;43m0\u001b[39;49m\u001b[43m,\u001b[49m\u001b[43m \u001b[49m\u001b[43mX\u001b[49m\u001b[38;5;241;43m.\u001b[39;49m\u001b[43mfloat\u001b[49m\u001b[43m(\u001b[49m\u001b[43m)\u001b[49m\u001b[43m,\u001b[49m\u001b[43m \u001b[49m\u001b[43my\u001b[49m\u001b[38;5;241;43m.\u001b[39;49m\u001b[43mfloat\u001b[49m\u001b[43m(\u001b[49m\u001b[43m)\u001b[49m\u001b[43m,\u001b[49m\u001b[43m \u001b[49m\u001b[38;5;241;43m0.01\u001b[39;49m\u001b[43m,\u001b[49m\u001b[43m \u001b[49m\u001b[38;5;241;43m0.05\u001b[39;49m\u001b[43m,\u001b[49m\u001b[43m \u001b[49m\u001b[38;5;241;43m1000\u001b[39;49m\u001b[43m,\u001b[49m\u001b[43m \u001b[49m\u001b[38;5;241;43m2\u001b[39;49m\u001b[43m,\u001b[49m\u001b[43m \u001b[49m\u001b[38;5;241;43m5\u001b[39;49m\u001b[43m,\u001b[49m\u001b[43m \u001b[49m\u001b[38;5;241;43m0.1\u001b[39;49m\u001b[43m,\u001b[49m\u001b[43m \u001b[49m\u001b[43mdevice\u001b[49m\u001b[43m)\u001b[49m\n\u001b[1;32m      2\u001b[0m Infos \u001b[38;5;241m=\u001b[39m UtilsTool\u001b[38;5;241m.\u001b[39mGetInfos(X, y, \u001b[38;5;241m0\u001b[39m, RNNAdversarialDataMaillardL0, MyRNNModel)\n\u001b[1;32m      3\u001b[0m \u001b[38;5;28mprint\u001b[39m(\u001b[38;5;124m\"\u001b[39m\u001b[38;5;124mMaillard-L0:\u001b[39m\u001b[38;5;124m\"\u001b[39m, Infos)\n",
      "File \u001b[0;32m~/Sources/Attacks.py:221\u001b[0m, in \u001b[0;36mMaillardL0\u001b[0;34m(model, Objective, X, y, LearningRate, c, epochs, k, P, S, device)\u001b[0m\n\u001b[1;32m    219\u001b[0m     Adv\u001b[38;5;241m.\u001b[39mclamp_(\u001b[38;5;241m0.0\u001b[39m, \u001b[38;5;241m1.0\u001b[39m)\n\u001b[1;32m    220\u001b[0m     \u001b[38;5;28;01mif\u001b[39;00m random\u001b[38;5;241m.\u001b[39mrandint(\u001b[38;5;241m0\u001b[39m, P) \u001b[38;5;241m==\u001b[39m \u001b[38;5;241m0\u001b[39m:\n\u001b[0;32m--> 221\u001b[0m         Adv \u001b[38;5;241m=\u001b[39m \u001b[43mProject\u001b[49m\u001b[43m(\u001b[49m\u001b[43mAdv\u001b[49m\u001b[43m,\u001b[49m\u001b[43m \u001b[49m\u001b[43mX\u001b[49m\u001b[43m[\u001b[49m\u001b[43mInstance\u001b[49m\u001b[43m:\u001b[49m\u001b[43mInstance\u001b[49m\u001b[38;5;241;43m+\u001b[39;49m\u001b[38;5;241;43m1\u001b[39;49m\u001b[43m]\u001b[49m\u001b[43m,\u001b[49m\u001b[43m \u001b[49m\u001b[43mS\u001b[49m\u001b[43m,\u001b[49m\u001b[43m \u001b[49m\u001b[43mMyLoss\u001b[49m\u001b[43m)\u001b[49m    \n\u001b[1;32m    222\u001b[0m         token \u001b[38;5;241m=\u001b[39m \u001b[38;5;241m1\u001b[39m   \n\u001b[1;32m    224\u001b[0m Output \u001b[38;5;241m=\u001b[39m model(Adv)\n",
      "File \u001b[0;32m~/Sources/Attacks.py:167\u001b[0m, in \u001b[0;36mProject\u001b[0;34m(Adv, X, S, Loss)\u001b[0m\n\u001b[1;32m    165\u001b[0m ToProject \u001b[38;5;241m=\u001b[39m []\n\u001b[1;32m    166\u001b[0m \u001b[38;5;28;01mfor\u001b[39;00m i \u001b[38;5;129;01min\u001b[39;00m \u001b[38;5;28mrange\u001b[39m(\u001b[38;5;28mlen\u001b[39m(Result3[\u001b[38;5;241m0\u001b[39m])):\n\u001b[0;32m--> 167\u001b[0m     \u001b[38;5;28;01mif\u001b[39;00m Result3[\u001b[38;5;241m0\u001b[39m][i] \u001b[38;5;241m<\u001b[39m S:\n\u001b[1;32m    168\u001b[0m         ToProject\u001b[38;5;241m.\u001b[39mappend(i)\n\u001b[1;32m    170\u001b[0m \u001b[38;5;28;01mfor\u001b[39;00m Ins \u001b[38;5;129;01min\u001b[39;00m \u001b[38;5;28mrange\u001b[39m(\u001b[38;5;28mlen\u001b[39m(Adv[\u001b[38;5;241m0\u001b[39m])):\n",
      "\u001b[0;31mKeyboardInterrupt\u001b[0m: "
     ]
    }
   ],
   "source": [
    "RNNAdversarialDataMaillardL0 = AttacksTool.MaillardL0(MyRNNModel, 0, X.float(), y.float(), 0.01, 0.05, 1000, 2, 5, 0.1, device)\n",
    "Infos = UtilsTool.GetInfos(X, y, 0, RNNAdversarialDataMaillardL0, MyRNNModel)\n",
    "print(\"Maillard-L0:\", Infos)\n",
    "\n",
    "GRUAdversarialDataMaillardL0 = AttacksTool.MaillardL0(MyGRUModel, 0, X.float(), y.float(), 0.01, 0.01, 1000, 2, 5, 0.1, device)\n",
    "Infos = UtilsTool.GetInfos(X, y, 0, GRUAdversarialDataMaillardL0, MyGRUModel)\n",
    "print(\"Maillard-L0:\", Infos)\n",
    "\n",
    "LSTMAdversarialDataMaillardL0 = AttacksTool.MaillardL0(MyLSTMModel, 0, X.float(), y.float(), 0.01, 0.01, 1000, 2, 5, 0.1, device)\n",
    "Infos = UtilsTool.GetInfos(X, y, 0, LSTMAdversarialDataMaillardL0, MyLSTMModel)\n",
    "print(\"Maillard-L0:\", Infos)"
   ]
  },
  {
   "cell_type": "code",
   "execution_count": 49,
   "id": "29249865",
   "metadata": {},
   "outputs": [
    {
     "name": "stdout",
     "output_type": "stream",
     "text": [
      "RNN\n",
      "Initial: {'RealRUL': 64.4935073852539, 'Objective': 0, 'PredRUL': 3.246049642562866, 'RMSE_adversarial': 0.02930368110537529, 'RMSE_pred': 72.78682708740234, 'L0': tensor(23.8442)}\n",
      "Formated: {'RealRUL': 64.4935073852539, 'Objective': 0, 'PredRUL': 4.4462690353393555, 'RMSE_adversarial': 0.028818128630518913, 'RMSE_pred': 71.56489562988281, 'L0': tensor(14.7403)}\n",
      "\n"
     ]
    },
    {
     "ename": "NameError",
     "evalue": "name 'RNNAdversarialDataMaillardL0' is not defined",
     "output_type": "error",
     "traceback": [
      "\u001b[0;31m---------------------------------------------------------------------------\u001b[0m",
      "\u001b[0;31mNameError\u001b[0m                                 Traceback (most recent call last)",
      "Cell \u001b[0;32mIn[49], line 3\u001b[0m\n\u001b[1;32m      1\u001b[0m \u001b[38;5;28mprint\u001b[39m(\u001b[38;5;124m\"\u001b[39m\u001b[38;5;124mRNN\u001b[39m\u001b[38;5;124m\"\u001b[39m)\n\u001b[1;32m      2\u001b[0m PRNNAdversarialDataMaillardL2 \u001b[38;5;241m=\u001b[39m UtilsTool\u001b[38;5;241m.\u001b[39mTestProjectionCost(testloaderAttack, X, RNNAdversarialDataMaillardL2, MyRNNModel, minmax_dict, window, device)\n\u001b[0;32m----> 3\u001b[0m PRNNAdversarialDataMaillardL0 \u001b[38;5;241m=\u001b[39m UtilsTool\u001b[38;5;241m.\u001b[39mTestProjectionCost(testloaderAttack, X, \u001b[43mRNNAdversarialDataMaillardL0\u001b[49m, MyRNNModel, minmax_dict, window, device)\n\u001b[1;32m      4\u001b[0m \u001b[38;5;28mprint\u001b[39m(\u001b[38;5;124m\"\u001b[39m\u001b[38;5;124mGRU\u001b[39m\u001b[38;5;124m\"\u001b[39m)\n\u001b[1;32m      5\u001b[0m PGRUAdversarialDataMaillardL2 \u001b[38;5;241m=\u001b[39m UtilsTool\u001b[38;5;241m.\u001b[39mTestProjectionCost(testloaderAttack, X, GRUAdversarialDataMaillardL2, MyGRUModel, minmax_dict, window, device)\n",
      "\u001b[0;31mNameError\u001b[0m: name 'RNNAdversarialDataMaillardL0' is not defined"
     ]
    }
   ],
   "source": [
    "print(\"RNN\")\n",
    "PRNNAdversarialDataMaillardL2 = UtilsTool.TestProjectionCost(testloaderAttack, X, RNNAdversarialDataMaillardL2, MyRNNModel, minmax_dict, window, device)\n",
    "PRNNAdversarialDataMaillardL0 = UtilsTool.TestProjectionCost(testloaderAttack, X, RNNAdversarialDataMaillardL0, MyRNNModel, minmax_dict, window, device)\n",
    "print(\"GRU\")\n",
    "PGRUAdversarialDataMaillardL2 = UtilsTool.TestProjectionCost(testloaderAttack, X, GRUAdversarialDataMaillardL2, MyGRUModel, minmax_dict, window, device)\n",
    "PGRUAdversarialDataMaillardL0 = UtilsTool.TestProjectionCost(testloaderAttack, X, GRUAdversarialDataMaillardL0, MyGRUModel, minmax_dict, window, device)\n",
    "print(\"LSTM\")\n",
    "PLSTMAdversarialDataMaillardL2 = UtilsTool.TestProjectionCost(testloaderAttack, X, LSTMAdversarialDataMaillardL2, MyLSTMModel, minmax_dict, window, device)\n",
    "PLSTMAdversarialDataMaillardL0 = UtilsTool.TestProjectionCost(testloaderAttack, X, LSTMAdversarialDataMaillardL0, MyLSTMModel, minmax_dict, window, device)"
   ]
  },
  {
   "cell_type": "code",
   "execution_count": 50,
   "id": "d8529d59",
   "metadata": {},
   "outputs": [
    {
     "ename": "NameError",
     "evalue": "name 'PRNNAdversarialDataMaillardL0' is not defined",
     "output_type": "error",
     "traceback": [
      "\u001b[0;31m---------------------------------------------------------------------------\u001b[0m",
      "\u001b[0;31mNameError\u001b[0m                                 Traceback (most recent call last)",
      "Cell \u001b[0;32mIn[50], line 2\u001b[0m\n\u001b[1;32m      1\u001b[0m UtilsTool\u001b[38;5;241m.\u001b[39mCreateDFSFiles(testloaderAttack, X, PRNNAdversarialDataMaillardL2, y, MyRNNModel, minmax_dict, NormalOutputPath \u001b[38;5;241m+\u001b[39m \u001b[38;5;124m\"\u001b[39m\u001b[38;5;124m/RNN\u001b[39m\u001b[38;5;124m\"\u001b[39m, AdversarialOutputPath \u001b[38;5;241m+\u001b[39m \u001b[38;5;124m\"\u001b[39m\u001b[38;5;124m/RNN\u001b[39m\u001b[38;5;124m\"\u001b[39m \u001b[38;5;241m+\u001b[39m \u001b[38;5;124m\"\u001b[39m\u001b[38;5;124m/L2\u001b[39m\u001b[38;5;124m\"\u001b[39m, device)\n\u001b[0;32m----> 2\u001b[0m UtilsTool\u001b[38;5;241m.\u001b[39mCreateDFSFiles(testloaderAttack, X, \u001b[43mPRNNAdversarialDataMaillardL0\u001b[49m, y, MyRNNModel, minmax_dict, NormalOutputPath \u001b[38;5;241m+\u001b[39m \u001b[38;5;124m\"\u001b[39m\u001b[38;5;124m/RNN\u001b[39m\u001b[38;5;124m\"\u001b[39m, AdversarialOutputPath \u001b[38;5;241m+\u001b[39m \u001b[38;5;124m\"\u001b[39m\u001b[38;5;124m/RNN\u001b[39m\u001b[38;5;124m\"\u001b[39m \u001b[38;5;241m+\u001b[39m \u001b[38;5;124m\"\u001b[39m\u001b[38;5;124m/L0\u001b[39m\u001b[38;5;124m\"\u001b[39m, device)\n\u001b[1;32m      4\u001b[0m UtilsTool\u001b[38;5;241m.\u001b[39mCreateDFSFiles(testloaderAttack, X, PGRUAdversarialDataMaillardL2, y, MyGRUModel, minmax_dict, NormalOutputPath \u001b[38;5;241m+\u001b[39m \u001b[38;5;124m\"\u001b[39m\u001b[38;5;124m/GRU\u001b[39m\u001b[38;5;124m\"\u001b[39m, AdversarialOutputPath \u001b[38;5;241m+\u001b[39m \u001b[38;5;124m\"\u001b[39m\u001b[38;5;124m/GRU\u001b[39m\u001b[38;5;124m\"\u001b[39m \u001b[38;5;241m+\u001b[39m \u001b[38;5;124m\"\u001b[39m\u001b[38;5;124m/L2\u001b[39m\u001b[38;5;124m\"\u001b[39m, device)\n\u001b[1;32m      5\u001b[0m UtilsTool\u001b[38;5;241m.\u001b[39mCreateDFSFiles(testloaderAttack, X, PGRUAdversarialDataMaillardL0, y, MyGRUModel, minmax_dict, NormalOutputPath \u001b[38;5;241m+\u001b[39m \u001b[38;5;124m\"\u001b[39m\u001b[38;5;124m/GRU\u001b[39m\u001b[38;5;124m\"\u001b[39m, AdversarialOutputPath \u001b[38;5;241m+\u001b[39m \u001b[38;5;124m\"\u001b[39m\u001b[38;5;124m/GRU\u001b[39m\u001b[38;5;124m\"\u001b[39m \u001b[38;5;241m+\u001b[39m \u001b[38;5;124m\"\u001b[39m\u001b[38;5;124m/L0\u001b[39m\u001b[38;5;124m\"\u001b[39m, device)\n",
      "\u001b[0;31mNameError\u001b[0m: name 'PRNNAdversarialDataMaillardL0' is not defined"
     ]
    }
   ],
   "source": [
    "UtilsTool.CreateDFSFiles(testloaderAttack, X, PRNNAdversarialDataMaillardL2, y, MyRNNModel, minmax_dict, NormalOutputPath + \"/RNN\", AdversarialOutputPath + \"/RNN\" + \"/L2\", device)\n",
    "UtilsTool.CreateDFSFiles(testloaderAttack, X, PRNNAdversarialDataMaillardL0, y, MyRNNModel, minmax_dict, NormalOutputPath + \"/RNN\", AdversarialOutputPath + \"/RNN\" + \"/L0\", device)\n",
    "\n",
    "UtilsTool.CreateDFSFiles(testloaderAttack, X, PGRUAdversarialDataMaillardL2, y, MyGRUModel, minmax_dict, NormalOutputPath + \"/GRU\", AdversarialOutputPath + \"/GRU\" + \"/L2\", device)\n",
    "UtilsTool.CreateDFSFiles(testloaderAttack, X, PGRUAdversarialDataMaillardL0, y, MyGRUModel, minmax_dict, NormalOutputPath + \"/GRU\", AdversarialOutputPath + \"/GRU\" + \"/L0\", device)\n",
    "\n",
    "UtilsTool.CreateDFSFiles(testloaderAttack, X, PLSTMAdversarialDataMaillardL2, y, MyLSTMModel, minmax_dict, NormalOutputPath + \"/LSTM\", AdversarialOutputPath + \"/LSTM\" + \"/L2\", device)\n",
    "UtilsTool.CreateDFSFiles(testloaderAttack, X, PLSTMAdversarialDataMaillardL0, y, MyLSTMModel, minmax_dict, NormalOutputPath + \"/LSTM\", AdversarialOutputPath + \"/LSTM\" + \"/L0\", device)"
   ]
  },
  {
   "cell_type": "code",
   "execution_count": null,
   "id": "d091ac2c",
   "metadata": {},
   "outputs": [
    {
     "name": "stdout",
     "output_type": "stream",
     "text": [
      "Transferability RNN\n",
      "{'RealRUL': 64.4935073852539, 'Objective': 0, 'PredRUL': 43.07719802856445, 'RMSE_adversarial': 0.05165189132094383, 'RMSE_pred': 30.74812889099121, 'L0': tensor(16.)}\n",
      "{'RealRUL': 64.4935073852539, 'Objective': 0, 'PredRUL': 23.815214157104492, 'RMSE_adversarial': 0.04548564553260803, 'RMSE_pred': 48.335350036621094, 'L0': tensor(16.)}\n",
      "{'RealRUL': 64.4935073852539, 'Objective': 0, 'PredRUL': 1.9371377229690552, 'RMSE_adversarial': 0.045177850872278214, 'RMSE_pred': 74.07440948486328, 'L0': tensor(16.0649)}\n",
      "{'RealRUL': 64.4935073852539, 'Objective': 0, 'PredRUL': 4.4462690353393555, 'RMSE_adversarial': 0.028818128630518913, 'RMSE_pred': 71.56489562988281, 'L0': tensor(14.7403)}\n",
      "{'RealRUL': 64.4935073852539, 'Objective': 0, 'PredRUL': 1.971468448638916, 'RMSE_adversarial': 0.06221010535955429, 'RMSE_pred': 74.59259033203125, 'L0': tensor(5.6883)}\n",
      "\n",
      "{'RealRUL': 64.4935073852539, 'Objective': 0, 'PredRUL': 43.167396545410156, 'RMSE_adversarial': 0.051650188863277435, 'RMSE_pred': 30.949798583984375, 'L0': tensor(16.)}\n",
      "{'RealRUL': 64.4935073852539, 'Objective': 0, 'PredRUL': 45.17226028442383, 'RMSE_adversarial': 0.047238606959581375, 'RMSE_pred': 31.172956466674805, 'L0': tensor(16.)}\n",
      "{'RealRUL': 64.4935073852539, 'Objective': 0, 'PredRUL': 26.902099609375, 'RMSE_adversarial': 0.04757121577858925, 'RMSE_pred': 48.06675720214844, 'L0': tensor(15.6883)}\n",
      "{'RealRUL': 64.4935073852539, 'Objective': 0, 'PredRUL': 38.009376525878906, 'RMSE_adversarial': 0.020448189228773117, 'RMSE_pred': 38.075260162353516, 'L0': tensor(14.6753)}\n",
      "{'RealRUL': 64.4935073852539, 'Objective': 0, 'PredRUL': 34.52267074584961, 'RMSE_adversarial': 0.0492095984518528, 'RMSE_pred': 42.64777374267578, 'L0': tensor(1.7532)}\n",
      "\n",
      "{'RealRUL': 64.4935073852539, 'Objective': 0, 'PredRUL': 46.07529830932617, 'RMSE_adversarial': 0.048849280923604965, 'RMSE_pred': 30.028034210205078, 'L0': tensor(16.)}\n",
      "{'RealRUL': 64.4935073852539, 'Objective': 0, 'PredRUL': 42.61573028564453, 'RMSE_adversarial': 0.045347265899181366, 'RMSE_pred': 31.929075241088867, 'L0': tensor(16.)}\n",
      "{'RealRUL': 64.4935073852539, 'Objective': 0, 'PredRUL': 25.679428100585938, 'RMSE_adversarial': 0.04528125375509262, 'RMSE_pred': 48.91293716430664, 'L0': tensor(15.6364)}\n",
      "{'RealRUL': 64.4935073852539, 'Objective': 0, 'PredRUL': 33.70576477050781, 'RMSE_adversarial': 0.027954230085015297, 'RMSE_pred': 40.614479064941406, 'L0': tensor(14.7532)}\n",
      "{'RealRUL': 64.4935073852539, 'Objective': 0, 'PredRUL': 33.62181091308594, 'RMSE_adversarial': 0.08067373186349869, 'RMSE_pred': 46.2152099609375, 'L0': tensor(2.7273)}\n"
     ]
    }
   ],
   "source": [
    "print(\"Transferability RNN\")\n",
    "Infos = UtilsTool.GetInfos(X, y, 0, PRNNAdversarialDataFgsm, MyRNNModel)\n",
    "print(Infos)\n",
    "Infos = UtilsTool.GetInfos(X, y, 0, PRNNAdversarialDataBim, MyRNNModel)\n",
    "print(Infos)\n",
    "Infos = UtilsTool.GetInfos(X, y, 0, PRNNAdversarialDataCW, MyRNNModel)\n",
    "print(Infos)\n",
    "Infos = UtilsTool.GetInfos(X, y, 0, PRNNAdversarialDataMaillardL2, MyRNNModel)\n",
    "print(Infos)\n",
    "Infos = UtilsTool.GetInfos(X, y, 0, PRNNAdversarialDataMaillardL0, MyRNNModel)\n",
    "print(Infos)\n",
    "print()\n",
    "Infos = UtilsTool.GetInfos(X, y, 0, PGRUAdversarialDataFgsm, MyRNNModel)\n",
    "print(Infos)\n",
    "Infos = UtilsTool.GetInfos(X, y, 0, PGRUAdversarialDataBim, MyRNNModel)\n",
    "print(Infos)\n",
    "Infos = UtilsTool.GetInfos(X, y, 0, PGRUAdversarialDataCW, MyRNNModel)\n",
    "print(Infos)\n",
    "Infos = UtilsTool.GetInfos(X, y, 0, PGRUAdversarialDataMaillardL2, MyRNNModel)\n",
    "print(Infos)\n",
    "Infos = UtilsTool.GetInfos(X, y, 0, PGRUAdversarialDataMaillardL0, MyRNNModel)\n",
    "print(Infos)\n",
    "print()\n",
    "Infos = UtilsTool.GetInfos(X, y, 0, PLSTMAdversarialDataFgsm, MyRNNModel)\n",
    "print(Infos)\n",
    "Infos = UtilsTool.GetInfos(X, y, 0, PLSTMAdversarialDataBim, MyRNNModel)\n",
    "print(Infos)\n",
    "Infos = UtilsTool.GetInfos(X, y, 0, PLSTMAdversarialDataCW, MyRNNModel)\n",
    "print(Infos)\n",
    "Infos = UtilsTool.GetInfos(X, y, 0, PLSTMAdversarialDataMaillardL2, MyRNNModel)\n",
    "print(Infos)\n",
    "Infos = UtilsTool.GetInfos(X, y, 0, PLSTMAdversarialDataMaillardL0, MyRNNModel)\n",
    "print(Infos)"
   ]
  },
  {
   "cell_type": "code",
   "execution_count": null,
   "id": "71da51a1",
   "metadata": {},
   "outputs": [
    {
     "name": "stdout",
     "output_type": "stream",
     "text": [
      "Transferability GRU\n",
      "{'RealRUL': 64.4935073852539, 'Objective': 0, 'PredRUL': 51.27300262451172, 'RMSE_adversarial': 0.05165189132094383, 'RMSE_pred': 25.024293899536133, 'L0': tensor(16.)}\n",
      "{'RealRUL': 64.4935073852539, 'Objective': 0, 'PredRUL': 21.460615158081055, 'RMSE_adversarial': 0.04548564553260803, 'RMSE_pred': 50.142967224121094, 'L0': tensor(16.)}\n",
      "{'RealRUL': 64.4935073852539, 'Objective': 0, 'PredRUL': 10.10074234008789, 'RMSE_adversarial': 0.045177850872278214, 'RMSE_pred': 65.99554443359375, 'L0': tensor(16.0649)}\n",
      "{'RealRUL': 64.4935073852539, 'Objective': 0, 'PredRUL': 18.66899299621582, 'RMSE_adversarial': 0.028818128630518913, 'RMSE_pred': 57.11671829223633, 'L0': tensor(14.7403)}\n",
      "{'RealRUL': 64.4935073852539, 'Objective': 0, 'PredRUL': 8.33476448059082, 'RMSE_adversarial': 0.06221010535955429, 'RMSE_pred': 68.9062728881836, 'L0': tensor(5.6883)}\n",
      "\n",
      "{'RealRUL': 64.4935073852539, 'Objective': 0, 'PredRUL': 18.954708099365234, 'RMSE_adversarial': 0.051650188863277435, 'RMSE_pred': 56.794071197509766, 'L0': tensor(16.)}\n",
      "{'RealRUL': 64.4935073852539, 'Objective': 0, 'PredRUL': 3.472785472869873, 'RMSE_adversarial': 0.047238606959581375, 'RMSE_pred': 71.7912368774414, 'L0': tensor(16.)}\n",
      "{'RealRUL': 64.4935073852539, 'Objective': 0, 'PredRUL': 1.1737908124923706, 'RMSE_adversarial': 0.04757121577858925, 'RMSE_pred': 74.73128509521484, 'L0': tensor(15.6883)}\n",
      "{'RealRUL': 64.4935073852539, 'Objective': 0, 'PredRUL': 5.511565685272217, 'RMSE_adversarial': 0.020448189228773117, 'RMSE_pred': 70.87721252441406, 'L0': tensor(14.6753)}\n",
      "{'RealRUL': 64.4935073852539, 'Objective': 0, 'PredRUL': 4.010367393493652, 'RMSE_adversarial': 0.0492095984518528, 'RMSE_pred': 72.98513793945312, 'L0': tensor(1.7532)}\n",
      "\n",
      "{'RealRUL': 64.4935073852539, 'Objective': 0, 'PredRUL': 18.552913665771484, 'RMSE_adversarial': 0.048849280923604965, 'RMSE_pred': 56.66708755493164, 'L0': tensor(16.)}\n",
      "{'RealRUL': 64.4935073852539, 'Objective': 0, 'PredRUL': 23.480632781982422, 'RMSE_adversarial': 0.045347265899181366, 'RMSE_pred': 50.23835754394531, 'L0': tensor(16.)}\n",
      "{'RealRUL': 64.4935073852539, 'Objective': 0, 'PredRUL': 14.828690528869629, 'RMSE_adversarial': 0.04528125375509262, 'RMSE_pred': 60.68597412109375, 'L0': tensor(15.6364)}\n",
      "{'RealRUL': 64.4935073852539, 'Objective': 0, 'PredRUL': 17.169700622558594, 'RMSE_adversarial': 0.027954230085015297, 'RMSE_pred': 58.648231506347656, 'L0': tensor(14.7532)}\n",
      "{'RealRUL': 64.4935073852539, 'Objective': 0, 'PredRUL': 19.696996688842773, 'RMSE_adversarial': 0.08067373186349869, 'RMSE_pred': 58.30034637451172, 'L0': tensor(2.7273)}\n"
     ]
    }
   ],
   "source": [
    "print(\"Transferability GRU\")\n",
    "Infos = UtilsTool.GetInfos(X, y, 0, PRNNAdversarialDataFgsm, MyGRUModel)\n",
    "print(Infos)\n",
    "Infos = UtilsTool.GetInfos(X, y, 0, PRNNAdversarialDataBim, MyGRUModel)\n",
    "print(Infos)\n",
    "Infos = UtilsTool.GetInfos(X, y, 0, PRNNAdversarialDataCW, MyGRUModel)\n",
    "print(Infos)\n",
    "Infos = UtilsTool.GetInfos(X, y, 0, PRNNAdversarialDataMaillardL2, MyGRUModel)\n",
    "print(Infos)\n",
    "Infos = UtilsTool.GetInfos(X, y, 0, PRNNAdversarialDataMaillardL0, MyGRUModel)\n",
    "print(Infos)\n",
    "print()\n",
    "Infos = UtilsTool.GetInfos(X, y, 0, PGRUAdversarialDataFgsm, MyGRUModel)\n",
    "print(Infos)\n",
    "Infos = UtilsTool.GetInfos(X, y, 0, PGRUAdversarialDataBim, MyGRUModel)\n",
    "print(Infos)\n",
    "Infos = UtilsTool.GetInfos(X, y, 0, PGRUAdversarialDataCW, MyGRUModel)\n",
    "print(Infos)\n",
    "Infos = UtilsTool.GetInfos(X, y, 0, PGRUAdversarialDataMaillardL2, MyGRUModel)\n",
    "print(Infos)\n",
    "Infos = UtilsTool.GetInfos(X, y, 0, PGRUAdversarialDataMaillardL0, MyGRUModel)\n",
    "print(Infos)\n",
    "print()\n",
    "Infos = UtilsTool.GetInfos(X, y, 0, PLSTMAdversarialDataFgsm, MyGRUModel)\n",
    "print(Infos)\n",
    "Infos = UtilsTool.GetInfos(X, y, 0, PLSTMAdversarialDataBim, MyGRUModel)\n",
    "print(Infos)\n",
    "Infos = UtilsTool.GetInfos(X, y, 0, PLSTMAdversarialDataCW, MyGRUModel)\n",
    "print(Infos)\n",
    "Infos = UtilsTool.GetInfos(X, y, 0, PLSTMAdversarialDataMaillardL2, MyGRUModel)\n",
    "print(Infos)\n",
    "Infos = UtilsTool.GetInfos(X, y, 0, PLSTMAdversarialDataMaillardL0, MyGRUModel)\n",
    "print(Infos)"
   ]
  },
  {
   "cell_type": "code",
   "execution_count": null,
   "id": "f6504033",
   "metadata": {},
   "outputs": [
    {
     "name": "stdout",
     "output_type": "stream",
     "text": [
      "Transferability LSTM\n",
      "{'RealRUL': 64.4935073852539, 'Objective': 0, 'PredRUL': 50.10506820678711, 'RMSE_adversarial': 0.05165189132094383, 'RMSE_pred': 23.947824478149414, 'L0': tensor(16.)}\n",
      "{'RealRUL': 64.4935073852539, 'Objective': 0, 'PredRUL': 27.471277236938477, 'RMSE_adversarial': 0.04548564553260803, 'RMSE_pred': 46.09392166137695, 'L0': tensor(16.)}\n",
      "{'RealRUL': 64.4935073852539, 'Objective': 0, 'PredRUL': 19.62442970275879, 'RMSE_adversarial': 0.045177850872278214, 'RMSE_pred': 52.4698371887207, 'L0': tensor(16.0649)}\n",
      "{'RealRUL': 64.4935073852539, 'Objective': 0, 'PredRUL': 27.16221809387207, 'RMSE_adversarial': 0.028818128630518913, 'RMSE_pred': 44.92425537109375, 'L0': tensor(14.7403)}\n",
      "{'RealRUL': 64.4935073852539, 'Objective': 0, 'PredRUL': 16.327415466308594, 'RMSE_adversarial': 0.06221010535955429, 'RMSE_pred': 57.51296615600586, 'L0': tensor(5.6883)}\n",
      "\n",
      "{'RealRUL': 64.4935073852539, 'Objective': 0, 'PredRUL': 43.0158805847168, 'RMSE_adversarial': 0.051650188863277435, 'RMSE_pred': 42.539466857910156, 'L0': tensor(16.)}\n",
      "{'RealRUL': 64.4935073852539, 'Objective': 0, 'PredRUL': 50.010475158691406, 'RMSE_adversarial': 0.047238606959581375, 'RMSE_pred': 40.12919616699219, 'L0': tensor(16.)}\n",
      "{'RealRUL': 64.4935073852539, 'Objective': 0, 'PredRUL': 39.93300247192383, 'RMSE_adversarial': 0.04757121577858925, 'RMSE_pred': 38.604393005371094, 'L0': tensor(15.6883)}\n",
      "{'RealRUL': 64.4935073852539, 'Objective': 0, 'PredRUL': 27.291250228881836, 'RMSE_adversarial': 0.020448189228773117, 'RMSE_pred': 48.101436614990234, 'L0': tensor(14.6753)}\n",
      "{'RealRUL': 64.4935073852539, 'Objective': 0, 'PredRUL': 42.971763610839844, 'RMSE_adversarial': 0.0492095984518528, 'RMSE_pred': 38.767417907714844, 'L0': tensor(1.7532)}\n",
      "\n",
      "{'RealRUL': 64.4935073852539, 'Objective': 0, 'PredRUL': 34.73725128173828, 'RMSE_adversarial': 0.048849280923604965, 'RMSE_pred': 40.84073257446289, 'L0': tensor(16.)}\n",
      "{'RealRUL': 64.4935073852539, 'Objective': 0, 'PredRUL': 12.692155838012695, 'RMSE_adversarial': 0.045347265899181366, 'RMSE_pred': 59.84923553466797, 'L0': tensor(16.)}\n",
      "{'RealRUL': 64.4935073852539, 'Objective': 0, 'PredRUL': 4.727651596069336, 'RMSE_adversarial': 0.04528125375509262, 'RMSE_pred': 70.60424041748047, 'L0': tensor(15.6364)}\n",
      "{'RealRUL': 64.4935073852539, 'Objective': 0, 'PredRUL': 7.145900249481201, 'RMSE_adversarial': 0.027954230085015297, 'RMSE_pred': 68.44358825683594, 'L0': tensor(14.7532)}\n",
      "{'RealRUL': 64.4935073852539, 'Objective': 0, 'PredRUL': 7.568592548370361, 'RMSE_adversarial': 0.08067373186349869, 'RMSE_pred': 69.54049682617188, 'L0': tensor(2.7273)}\n"
     ]
    }
   ],
   "source": [
    "print(\"Transferability LSTM\")\n",
    "\n",
    "Infos = UtilsTool.GetInfos(X, y, 0, PRNNAdversarialDataFgsm, MyLSTMModel)\n",
    "print(Infos)\n",
    "Infos = UtilsTool.GetInfos(X, y, 0, PRNNAdversarialDataBim, MyLSTMModel)\n",
    "print(Infos)\n",
    "Infos = UtilsTool.GetInfos(X, y, 0, PRNNAdversarialDataCW, MyLSTMModel)\n",
    "print(Infos)\n",
    "Infos = UtilsTool.GetInfos(X, y, 0, PRNNAdversarialDataMaillardL2, MyLSTMModel)\n",
    "print(Infos)\n",
    "Infos = UtilsTool.GetInfos(X, y, 0, PRNNAdversarialDataMaillardL0, MyLSTMModel)\n",
    "print(Infos)\n",
    "print()\n",
    "Infos = UtilsTool.GetInfos(X, y, 0, PGRUAdversarialDataFgsm, MyLSTMModel)\n",
    "print(Infos)\n",
    "Infos = UtilsTool.GetInfos(X, y, 0, PGRUAdversarialDataBim, MyLSTMModel)\n",
    "print(Infos)\n",
    "Infos = UtilsTool.GetInfos(X, y, 0, PGRUAdversarialDataCW, MyLSTMModel)\n",
    "print(Infos)\n",
    "Infos = UtilsTool.GetInfos(X, y, 0, PGRUAdversarialDataMaillardL2, MyLSTMModel)\n",
    "print(Infos)\n",
    "Infos = UtilsTool.GetInfos(X, y, 0, PGRUAdversarialDataMaillardL0, MyLSTMModel)\n",
    "print(Infos)\n",
    "print()\n",
    "Infos = UtilsTool.GetInfos(X, y, 0, PLSTMAdversarialDataFgsm, MyLSTMModel)\n",
    "print(Infos)\n",
    "Infos = UtilsTool.GetInfos(X, y, 0, PLSTMAdversarialDataBim, MyLSTMModel)\n",
    "print(Infos)\n",
    "Infos = UtilsTool.GetInfos(X, y, 0, PLSTMAdversarialDataCW, MyLSTMModel)\n",
    "print(Infos)\n",
    "Infos = UtilsTool.GetInfos(X, y, 0, PLSTMAdversarialDataMaillardL2, MyLSTMModel)\n",
    "print(Infos)\n",
    "Infos = UtilsTool.GetInfos(X, y, 0, PLSTMAdversarialDataMaillardL0, MyLSTMModel)\n",
    "print(Infos)"
   ]
  },
  {
   "cell_type": "code",
   "execution_count": 56,
   "id": "188c23da",
   "metadata": {},
   "outputs": [
    {
     "name": "stdout",
     "output_type": "stream",
     "text": [
      "{'RealRUL': 64.4935073852539, 'Objective': 0, 'PredRUL': 72.92792510986328, 'RMSE_adversarial': 0.0, 'RMSE_pred': 32.49467086791992}\n"
     ]
    }
   ],
   "source": [
    "Param = UtilsTool.TrainStatModel(trainloader)\n",
    "print(UtilsTool.GetStatsInfos(X, y, 0, X, Param))"
   ]
  },
  {
   "cell_type": "code",
   "execution_count": 51,
   "id": "2da934b2",
   "metadata": {},
   "outputs": [],
   "source": [
    "if DisplayGraph == 1:\n",
    "    X_np, y_np = UtilsTool.prepare_batch(X.cpu().detach(), y.cpu())\n",
    "    y_pred = UtilsTool.exp_degradation(X_np, *Param)\n",
    "    UtilsTool.DisplayGraph(torch.tensor(y_pred).cpu(), y, FiguresPath, \"NormalStatsDetection\")"
   ]
  },
  {
   "cell_type": "code",
   "execution_count": null,
   "id": "2a77a53f",
   "metadata": {},
   "outputs": [
    {
     "name": "stdout",
     "output_type": "stream",
     "text": [
      "{'RealRUL': 64.4935073852539, 'Objective': 0, 'PredRUL': 70.71940612792969, 'RMSE_adversarial': 0.05165189069609401, 'RMSE_pred': 31.190736770629883}\n",
      "{'RealRUL': 64.4935073852539, 'Objective': 0, 'PredRUL': 62.29285430908203, 'RMSE_adversarial': 0.045485647770054184, 'RMSE_pred': 31.384836196899414}\n",
      "{'RealRUL': 64.4935073852539, 'Objective': 0, 'PredRUL': 65.501220703125, 'RMSE_adversarial': 0.045177851187551826, 'RMSE_pred': 31.819381713867188}\n",
      "{'RealRUL': 64.4935073852539, 'Objective': 0, 'PredRUL': 69.8340072631836, 'RMSE_adversarial': 0.028818127464820167, 'RMSE_pred': 32.074363708496094}\n",
      "{'RealRUL': 64.4935073852539, 'Objective': 0, 'PredRUL': 72.42330932617188, 'RMSE_adversarial': 0.06221010350295629, 'RMSE_pred': 34.293701171875}\n",
      "\n",
      "{'RealRUL': 64.4935073852539, 'Objective': 0, 'PredRUL': 84.97969818115234, 'RMSE_adversarial': 0.05165018888200677, 'RMSE_pred': 38.684844970703125}\n",
      "{'RealRUL': 64.4935073852539, 'Objective': 0, 'PredRUL': 86.67813873291016, 'RMSE_adversarial': 0.047238604706931975, 'RMSE_pred': 38.95017623901367}\n",
      "{'RealRUL': 64.4935073852539, 'Objective': 0, 'PredRUL': 76.30545043945312, 'RMSE_adversarial': 0.04757121225980786, 'RMSE_pred': 30.015037536621094}\n",
      "{'RealRUL': 64.4935073852539, 'Objective': 0, 'PredRUL': 71.41858673095703, 'RMSE_adversarial': 0.020448190291498483, 'RMSE_pred': 32.12751388549805}\n",
      "{'RealRUL': 64.4935073852539, 'Objective': 0, 'PredRUL': 82.55256652832031, 'RMSE_adversarial': 0.04920959972961582, 'RMSE_pred': 33.19742202758789}\n",
      "\n",
      "{'RealRUL': 64.4935073852539, 'Objective': 0, 'PredRUL': 72.93242645263672, 'RMSE_adversarial': 0.0488492814270623, 'RMSE_pred': 29.80618667602539}\n",
      "{'RealRUL': 64.4935073852539, 'Objective': 0, 'PredRUL': 53.118499755859375, 'RMSE_adversarial': 0.04534726276281183, 'RMSE_pred': 36.29398727416992}\n",
      "{'RealRUL': 64.4935073852539, 'Objective': 0, 'PredRUL': 61.178680419921875, 'RMSE_adversarial': 0.045281255207529195, 'RMSE_pred': 32.23377227783203}\n",
      "{'RealRUL': 64.4935073852539, 'Objective': 0, 'PredRUL': 68.31856536865234, 'RMSE_adversarial': 0.027954228802457654, 'RMSE_pred': 31.498092651367188}\n",
      "{'RealRUL': 64.4935073852539, 'Objective': 0, 'PredRUL': 77.37869262695312, 'RMSE_adversarial': 0.08067372880631594, 'RMSE_pred': 45.3474235534668}\n"
     ]
    }
   ],
   "source": [
    "print(UtilsTool.GetStatsInfos(X, y, 0, PRNNAdversarialDataFgsm,  Param))\n",
    "print(UtilsTool.GetStatsInfos(X, y, 0, PRNNAdversarialDataBim, Param))\n",
    "print(UtilsTool.GetStatsInfos(X, y, 0, PRNNAdversarialDataCW, Param))\n",
    "print(UtilsTool.GetStatsInfos(X, y, 0, PRNNAdversarialDataMaillardL2, Param))\n",
    "print(UtilsTool.GetStatsInfos(X, y, 0, PRNNAdversarialDataMaillardL0, Param))\n",
    "\n",
    "print()\n",
    "print(UtilsTool.GetStatsInfos(X, y, 0, PGRUAdversarialDataFgsm,  Param))\n",
    "print(UtilsTool.GetStatsInfos(X, y, 0, PGRUAdversarialDataBim, Param))\n",
    "print(UtilsTool.GetStatsInfos(X, y, 0, PGRUAdversarialDataCW, Param))\n",
    "print(UtilsTool.GetStatsInfos(X, y, 0, PGRUAdversarialDataMaillardL2, Param))\n",
    "print(UtilsTool.GetStatsInfos(X, y, 0, PGRUAdversarialDataMaillardL0, Param))\n",
    "\n",
    "print()\n",
    "print(UtilsTool.GetStatsInfos(X, y, 0, PLSTMAdversarialDataFgsm,  Param))\n",
    "print(UtilsTool.GetStatsInfos(X, y, 0, PLSTMAdversarialDataBim, Param))\n",
    "print(UtilsTool.GetStatsInfos(X, y, 0, PLSTMAdversarialDataCW, Param))\n",
    "print(UtilsTool.GetStatsInfos(X, y, 0, PLSTMAdversarialDataMaillardL2, Param))\n",
    "print(UtilsTool.GetStatsInfos(X, y, 0, PLSTMAdversarialDataMaillardL0, Param))"
   ]
  },
  {
   "cell_type": "code",
   "execution_count": 57,
   "id": "e0be560d",
   "metadata": {},
   "outputs": [],
   "source": [
    "if DisplayGraph == 1:\n",
    "    X_Adv_np, y_np = UtilsTool.prepare_batch(PLSTMAdversarialDataMaillardL0.cpu().detach(), y.cpu())\n",
    "    y_pred = UtilsTool.exp_degradation(X_Adv_np, *Param)\n",
    "    UtilsTool.DisplayGraph(torch.tensor(y_pred).cpu(), y, FiguresPath, \"AdversarialRNNStatsDetection\")"
   ]
  },
  {
   "cell_type": "code",
   "execution_count": 126,
   "id": "1505ad21",
   "metadata": {},
   "outputs": [
    {
     "name": "stderr",
     "output_type": "stream",
     "text": [
      "/tmp/ipykernel_12274/1123101251.py:5: UserWarning: To copy construct from a tensor, it is recommended to use sourceTensor.clone().detach() or sourceTensor.clone().detach().requires_grad_(True), rather than torch.tensor(sourceTensor).\n",
      "  Xt = torch.tensor(X, dtype=torch.float64)\n"
     ]
    },
    {
     "name": "stdout",
     "output_type": "stream",
     "text": [
      "{'RealRUL': 64.4935073852539, 'Objective': 0, 'PredRUL': 12.159832954406738, 'RMSE_adversarial': 0.051385291346817276, 'RMSE_pred': 65.58631134033203}\n",
      "Initial: {'RealRUL': 64.4935073852539, 'Objective': 0, 'PredRUL': 58.28401565551758, 'RMSE_adversarial': 0.051385290920734406, 'RMSE_pred': 21.27968978881836, 'L0': tensor(24.)}\n",
      "Formated: {'RealRUL': 64.4935073852539, 'Objective': 0, 'PredRUL': 58.87548065185547, 'RMSE_adversarial': 0.04473813250660896, 'RMSE_pred': 21.08479118347168, 'L0': tensor(15.5844)}\n",
      "\n",
      "{'RealRUL': 64.4935073852539, 'Objective': 0, 'PredRUL': 20.848140716552734, 'RMSE_adversarial': 0.04473813209588073, 'RMSE_pred': 58.13431167602539}\n",
      "{'RealRUL': 64.4935073852539, 'Objective': 0, 'PredRUL': 58.87548065185547, 'RMSE_adversarial': 0.04473813250660896, 'RMSE_pred': 21.08479118347168, 'L0': tensor(15.5844)}\n",
      "{'RealRUL': 64.4935073852539, 'Objective': 0, 'PredRUL': 54.501888275146484, 'RMSE_adversarial': 0.04473813250660896, 'RMSE_pred': 18.194934844970703, 'L0': tensor(15.5844)}\n",
      "{'RealRUL': 64.4935073852539, 'Objective': 0, 'PredRUL': 54.90077209472656, 'RMSE_adversarial': 0.04473813250660896, 'RMSE_pred': 18.017080307006836, 'L0': tensor(15.5844)}\n"
     ]
    }
   ],
   "source": [
    "Adv = AttacksTool.CreateAdversarialStats(X, y, Param, 100000, 1000, 0.001)       \n",
    "Infos = UtilsTool.GetStatsInfos(X, y, 0, Adv, Param)\n",
    "print(Infos)\n",
    "PAdv = UtilsTool.TestProjectionCost(testloaderAttack, X, Adv, MyRNNModel, minmax_dict, window, device)\n",
    "Infos = UtilsTool.GetStatsInfos(X, y, 0, PAdv, Param)\n",
    "print(\"Stats\", Infos)\n",
    "Infos = UtilsTool.GetInfos(X, y, 0, PAdv, MyRNNModel)\n",
    "print(\"RNN\", Infos)\n",
    "Infos = UtilsTool.GetInfos(X, y, 0, PAdv, MyGRUModel)\n",
    "print(\"GRU\", Infos)\n",
    "Infos = UtilsTool.GetInfos(X, y, 0, PAdv, MyLSTMModel)\n",
    "print(\"LSTM\", Infos)"
   ]
  }
 ],
 "metadata": {
  "kernelspec": {
   "display_name": "Python 3 (ipykernel)",
   "language": "python",
   "name": "python3"
  },
  "language_info": {
   "codemirror_mode": {
    "name": "ipython",
    "version": 3
   },
   "file_extension": ".py",
   "mimetype": "text/x-python",
   "name": "python",
   "nbconvert_exporter": "python",
   "pygments_lexer": "ipython3",
   "version": "3.10.12"
  },
  "papermill": {
   "default_parameters": {},
   "duration": 1671.427631,
   "end_time": "2022-11-23T16:08:50.145405",
   "environment_variables": {},
   "exception": null,
   "input_path": "__notebook__.ipynb",
   "output_path": "__notebook__.ipynb",
   "parameters": {},
   "start_time": "2022-11-23T15:40:58.717774",
   "version": "2.3.4"
  }
 },
 "nbformat": 4,
 "nbformat_minor": 5
}
