{
 "cells": [
  {
   "cell_type": "code",
   "execution_count": 1,
   "id": "b10920c7",
   "metadata": {
    "execution": {
     "iopub.execute_input": "2022-11-23T15:41:07.424260Z",
     "iopub.status.busy": "2022-11-23T15:41:07.423547Z",
     "iopub.status.idle": "2022-11-23T15:41:09.327810Z",
     "shell.execute_reply": "2022-11-23T15:41:09.326355Z"
    },
    "papermill": {
     "duration": 1.918804,
     "end_time": "2022-11-23T15:41:09.331049",
     "exception": false,
     "start_time": "2022-11-23T15:41:07.412245",
     "status": "completed"
    },
    "tags": []
   },
   "outputs": [],
   "source": [
    "import torch\n",
    "import torch.nn as nn\n",
    "import torch.optim as optim\n",
    "from torch.utils.data import Dataset\n",
    "from torch.utils.data import DataLoader\n",
    "\n",
    "import pandas as pd\n",
    "import numpy as np\n",
    "import matplotlib.pyplot as plt\n",
    "import random\n",
    "\n",
    "from tqdm import tqdm\n",
    "from time import sleep\n",
    "from os import listdir\n",
    "import matplotlib.image as mpimg\n",
    "from matplotlib.animation import FuncAnimation as FA\n",
    "import math\n",
    "from decimal import Decimal, ROUND_HALF_UP\n",
    "\n",
    "import Sources.Utils as UtilsTool\n",
    "import Sources.Attacks as AttacksTool\n",
    "import Sources.Data as DataTool\n",
    "\n",
    "from Sources.Models import RNNModel, GRUModel, LSTMModel\n",
    "\n",
    "import numpy as np\n",
    "from scipy.optimize import curve_fit\n",
    "from sklearn.metrics import mean_squared_error"
   ]
  },
  {
   "cell_type": "code",
   "execution_count": 2,
   "id": "85000d04",
   "metadata": {},
   "outputs": [],
   "source": [
    "pd.set_option('display.max_columns', 50)\n",
    "pd.set_option('display.max_rows', 50)\n",
    "\n",
    "device = 'cuda'\n",
    "DisplayGraph = 0\n",
    "TrainMode = 0\n",
    "OptimizeParameters = 1\n",
    "\n",
    "DatasetPath = 'DatasetRUL/'\n",
    "ModelPath = 'Models/'\n",
    "NormalOutputPath = 'ResultsRUL/Normal/'\n",
    "AdversarialOutputPath = 'ResultsRUL/Adversarial/'\n",
    "OptimalParametersPath = 'ResultsRUL/OptimalParameters/'\n",
    "\n",
    "#does not consider a large window TODO\n",
    "#Save MAillard L2, L0, Noramlized datas TODO\n",
    "#Clean repository TODO\n",
    "window = 50"
   ]
  },
  {
   "cell_type": "code",
   "execution_count": 3,
   "id": "727cd407",
   "metadata": {
    "execution": {
     "iopub.execute_input": "2022-11-23T15:41:09.371162Z",
     "iopub.status.busy": "2022-11-23T15:41:09.369654Z",
     "iopub.status.idle": "2022-11-23T15:41:09.688330Z",
     "shell.execute_reply": "2022-11-23T15:41:09.687086Z"
    },
    "papermill": {
     "duration": 0.331643,
     "end_time": "2022-11-23T15:41:09.690880",
     "exception": false,
     "start_time": "2022-11-23T15:41:09.359237",
     "status": "completed"
    },
    "tags": []
   },
   "outputs": [],
   "source": [
    "listdir(DatasetPath)\n",
    "\n",
    "df_train = pd.read_csv(DatasetPath + 'train_FD001.txt', header = None, sep = ' ')\n",
    "df_test = pd.read_csv(DatasetPath + 'test_FD001.txt', header = None, sep = ' ')\n",
    "rul_test = pd.read_csv(DatasetPath + 'RUL_FD001.txt', header = None)"
   ]
  },
  {
   "cell_type": "code",
   "execution_count": 4,
   "id": "b064a33d",
   "metadata": {
    "execution": {
     "iopub.execute_input": "2022-11-23T15:41:09.736166Z",
     "iopub.status.busy": "2022-11-23T15:41:09.735740Z",
     "iopub.status.idle": "2022-11-23T15:41:09.812797Z",
     "shell.execute_reply": "2022-11-23T15:41:09.811536Z"
    },
    "papermill": {
     "duration": 0.091155,
     "end_time": "2022-11-23T15:41:09.815373",
     "exception": false,
     "start_time": "2022-11-23T15:41:09.724218",
     "status": "completed"
    },
    "tags": []
   },
   "outputs": [],
   "source": [
    "df_train, df_test, rul_test = DataTool.SetDatasets(df_train, df_test, rul_test)"
   ]
  },
  {
   "cell_type": "code",
   "execution_count": 5,
   "id": "ea46a2d8",
   "metadata": {
    "execution": {
     "iopub.execute_input": "2022-11-23T15:41:14.752510Z",
     "iopub.status.busy": "2022-11-23T15:41:14.752105Z",
     "iopub.status.idle": "2022-11-23T15:41:14.816285Z",
     "shell.execute_reply": "2022-11-23T15:41:14.815113Z"
    },
    "papermill": {
     "duration": 0.091725,
     "end_time": "2022-11-23T15:41:14.819125",
     "exception": false,
     "start_time": "2022-11-23T15:41:14.727400",
     "status": "completed"
    },
    "tags": []
   },
   "outputs": [],
   "source": [
    "minmax_dict = DataTool.GetMinMaxDictionnary(df_train)\n",
    "Ndf_train  = DataTool.NormalizeDataset(df_train, minmax_dict)    \n",
    "Ndf_test  = DataTool.NormalizeDataset(df_test, minmax_dict)   "
   ]
  },
  {
   "cell_type": "code",
   "execution_count": 6,
   "id": "a63fb82b",
   "metadata": {
    "execution": {
     "iopub.execute_input": "2022-11-23T15:41:20.981489Z",
     "iopub.status.busy": "2022-11-23T15:41:20.980892Z",
     "iopub.status.idle": "2022-11-23T15:41:20.987713Z",
     "shell.execute_reply": "2022-11-23T15:41:20.986262Z"
    },
    "papermill": {
     "duration": 0.044458,
     "end_time": "2022-11-23T15:41:20.990277",
     "exception": false,
     "start_time": "2022-11-23T15:41:20.945819",
     "status": "completed"
    },
    "tags": []
   },
   "outputs": [],
   "source": [
    "n_features = len([c for c in Ndf_train.columns if 's' in c])\n"
   ]
  },
  {
   "cell_type": "code",
   "execution_count": 7,
   "id": "4c6b0dd4",
   "metadata": {
    "execution": {
     "iopub.execute_input": "2022-11-23T15:41:21.126530Z",
     "iopub.status.busy": "2022-11-23T15:41:21.125398Z",
     "iopub.status.idle": "2022-11-23T15:41:21.132885Z",
     "shell.execute_reply": "2022-11-23T15:41:21.131463Z"
    },
    "papermill": {
     "duration": 0.045,
     "end_time": "2022-11-23T15:41:21.135314",
     "exception": false,
     "start_time": "2022-11-23T15:41:21.090314",
     "status": "completed"
    },
    "tags": []
   },
   "outputs": [],
   "source": [
    "np.random.seed(5)\n",
    "torch.manual_seed(5)\n",
    "\n",
    "units = np.arange(1,101)\n",
    "train_units = list(np.random.choice(units, 80, replace = False))\n",
    "val_units = list(set(units) - set(train_units))\n",
    "\n",
    "train_data = Ndf_train[Ndf_train['unit'].isin(train_units)].copy()\n",
    "val_data = Ndf_train[Ndf_train['unit'].isin(val_units)].copy()\n",
    "\n",
    "train_indices = list(train_data[(train_data['rul'] >= (window - 1)) & (train_data['time'] > 10)].index)\n",
    "val_indices = list(val_data[(val_data['rul'] >= (window - 1)) & (val_data['time'] > 10)].index)\n",
    "\n",
    "train = DataTool.data(train_indices, Ndf_train)\n",
    "val = DataTool.data(val_indices, Ndf_train)\n",
    "\n",
    "trainloader = DataLoader(train, batch_size = 64, shuffle = True)\n",
    "valloader = DataLoader(val, batch_size = len(val_indices), shuffle = True)\n",
    "\n",
    "units = np.arange(1,101)\n",
    "\n",
    "testdataset = DataTool.test(units, Ndf_test)\n",
    "testloader = DataLoader(testdataset, batch_size = 100)"
   ]
  },
  {
   "cell_type": "code",
   "execution_count": 8,
   "id": "2f17f2e2",
   "metadata": {
    "execution": {
     "iopub.execute_input": "2022-11-23T15:41:21.973759Z",
     "iopub.status.busy": "2022-11-23T15:41:21.972943Z",
     "iopub.status.idle": "2022-11-23T16:08:07.459582Z",
     "shell.execute_reply": "2022-11-23T16:08:07.458414Z"
    },
    "papermill": {
     "duration": 1605.563583,
     "end_time": "2022-11-23T16:08:07.502071",
     "exception": false,
     "start_time": "2022-11-23T15:41:21.938488",
     "status": "completed"
    },
    "tags": []
   },
   "outputs": [],
   "source": [
    "if TrainMode == 1:\n",
    "    epochs = 30\n",
    "    learning_rate= 0.003\n",
    "    \n",
    "    MyRNNModel = RNNModel(n_features, 12).to(device)\n",
    "    UtilsTool.InitModel(MyRNNModel, device)\n",
    "    UtilsTool.TrainModel(MyRNNModel, trainloader, valloader, epochs, learning_rate, device)        \n",
    "    torch.save(MyRNNModel, ModelPath + 'MyRNNmodel.pth')\n",
    "\n",
    "    MyGRUModel = GRUModel(n_features, 12).to(device)\n",
    "    UtilsTool.InitModel(MyGRUModel, device)\n",
    "    UtilsTool.TrainModel(MyGRUModel, trainloader, valloader, epochs, learning_rate, device)        \n",
    "    torch.save(MyGRUModel, ModelPath + 'MyGRUmodel.pth')\n",
    "\n",
    "    MyLSTMModel = LSTMModel(n_features, 12).to(device)\n",
    "    UtilsTool.InitModel(MyLSTMModel, device)\n",
    "    UtilsTool.TrainModel(MyLSTMModel, trainloader, valloader, epochs, learning_rate, device)     \n",
    "    torch.save(MyLSTMModel, ModelPath + 'MyLSTMmodel.pth')\n",
    "else:\n",
    "    MyRNNModel = torch.load(ModelPath + 'MyRNNmodel.pth')\n",
    "    MyGRUModel = torch.load(ModelPath + 'MyGRUmodel.pth')\n",
    "    MyLSTMModel = torch.load(ModelPath + 'MyLSTMmodel.pth')"
   ]
  },
  {
   "cell_type": "code",
   "execution_count": 9,
   "id": "c1efae74",
   "metadata": {},
   "outputs": [],
   "source": [
    "MyRNNModel = MyRNNModel.to(device)\n",
    "MyGRUModel = MyGRUModel.to(device)\n",
    "MyLSTMModel = MyLSTMModel.to(device)"
   ]
  },
  {
   "cell_type": "markdown",
   "id": "15a2d305",
   "metadata": {
    "papermill": {
     "duration": 0.041459,
     "end_time": "2022-11-23T16:08:48.445943",
     "exception": false,
     "start_time": "2022-11-23T16:08:48.404484",
     "status": "completed"
    },
    "tags": []
   },
   "source": [
    "![](./animation3.gif)"
   ]
  },
  {
   "cell_type": "code",
   "execution_count": 10,
   "id": "2adc90d3",
   "metadata": {
    "execution": {
     "iopub.execute_input": "2022-11-23T16:08:48.617567Z",
     "iopub.status.busy": "2022-11-23T16:08:48.616798Z",
     "iopub.status.idle": "2022-11-23T16:08:48.818815Z",
     "shell.execute_reply": "2022-11-23T16:08:48.817568Z"
    },
    "papermill": {
     "duration": 0.248564,
     "end_time": "2022-11-23T16:08:48.821338",
     "exception": false,
     "start_time": "2022-11-23T16:08:48.572774",
     "status": "completed"
    },
    "tags": []
   },
   "outputs": [
    {
     "name": "stdout",
     "output_type": "stream",
     "text": [
      "RNN: MSE:881.22, L1:23.44, RMSE:29.69\n",
      "GRU: MSE:748.74, L1:19.82, RMSE:27.36\n",
      "LSTM: MSE:609.01, L1:19.34, RMSE:24.68\n"
     ]
    }
   ],
   "source": [
    "mse, l1, Rrmse, y_pred_rnn, y = UtilsTool.test(MyRNNModel, testloader, device)\n",
    "print(f'RNN: MSE:{round(mse,2)}, L1:{round(l1,2)}, RMSE:{round(Rrmse,2)}')\n",
    "mse, l1, Rrmse, y_pred_gru, y = UtilsTool.test(MyGRUModel, testloader, device)\n",
    "print(f'GRU: MSE:{round(mse,2)}, L1:{round(l1,2)}, RMSE:{round(Rrmse,2)}')\n",
    "mse, l1, Rrmse, y_pred_lstm, y = UtilsTool.test(MyLSTMModel, testloader, device)\n",
    "print(f'LSTM: MSE:{round(mse,2)}, L1:{round(l1,2)}, RMSE:{round(Rrmse,2)}')"
   ]
  },
  {
   "cell_type": "code",
   "execution_count": 11,
   "id": "d4c88912",
   "metadata": {
    "execution": {
     "iopub.execute_input": "2022-11-23T16:08:48.904412Z",
     "iopub.status.busy": "2022-11-23T16:08:48.903742Z",
     "iopub.status.idle": "2022-11-23T16:08:49.171955Z",
     "shell.execute_reply": "2022-11-23T16:08:49.170690Z"
    },
    "papermill": {
     "duration": 0.312838,
     "end_time": "2022-11-23T16:08:49.174595",
     "exception": false,
     "start_time": "2022-11-23T16:08:48.861757",
     "status": "completed"
    },
    "tags": []
   },
   "outputs": [],
   "source": [
    "if DisplayGraph == 1:\n",
    "    UtilsTool.DisplayGraph(y_pred_rnn, y)\n",
    "    UtilsTool.DisplayGraph(y_pred_gru, y)\n",
    "    UtilsTool.DisplayGraph(y_pred_lstm, y)"
   ]
  },
  {
   "cell_type": "code",
   "execution_count": 12,
   "id": "ba3e1b99",
   "metadata": {},
   "outputs": [
    {
     "name": "stdout",
     "output_type": "stream",
     "text": [
      "RNN\n",
      "FGSM: {'RealRUL': 75.5199966430664, 'Objective': 0, 'PredRUL': 47.80316162109375, 'RMSE_adversarial': 0.09092852473258972, 'RMSE_pred': 42.452213287353516, 'L0': tensor(23.7200)}\n",
      "BIM: {'RealRUL': 75.5199966430664, 'Objective': 0, 'PredRUL': 28.27294158935547, 'RMSE_adversarial': 0.094657301902771, 'RMSE_pred': 60.857696533203125, 'L0': tensor(23.7000)}\n",
      "CW: {'RealRUL': 75.5199966430664, 'Objective': 0, 'PredRUL': 10.619772911071777, 'RMSE_adversarial': 0.10618610680103302, 'RMSE_pred': 77.25652313232422, 'L0': tensor(23.9800)}\n",
      "\n",
      "GRU\n",
      "FGSM: {'RealRUL': 75.5199966430664, 'Objective': 0, 'PredRUL': 22.89347267150879, 'RMSE_adversarial': 0.0545102022588253, 'RMSE_pred': 61.21987533569336, 'L0': tensor(23.9400)}\n",
      "BIM: {'RealRUL': 75.5199966430664, 'Objective': 0, 'PredRUL': 8.817352294921875, 'RMSE_adversarial': 0.0562066026031971, 'RMSE_pred': 76.15291595458984, 'L0': tensor(23.8600)}\n",
      "CW: {'RealRUL': 75.5199966430664, 'Objective': 0, 'PredRUL': 0.2721460163593292, 'RMSE_adversarial': 0.055462464690208435, 'RMSE_pred': 85.945068359375, 'L0': tensor(23.8300)}\n",
      "\n",
      "LSTM\n",
      "FGSM: {'RealRUL': 75.5199966430664, 'Objective': 0, 'PredRUL': 38.80435562133789, 'RMSE_adversarial': 0.13434146344661713, 'RMSE_pred': 51.77580261230469, 'L0': tensor(23.4300)}\n",
      "BIM: {'RealRUL': 75.5199966430664, 'Objective': 0, 'PredRUL': 17.44858169555664, 'RMSE_adversarial': 0.12679541110992432, 'RMSE_pred': 69.95494079589844, 'L0': tensor(22.3000)}\n",
      "CW: {'RealRUL': 75.5199966430664, 'Objective': 0, 'PredRUL': 9.360200881958008, 'RMSE_adversarial': 0.11699812859296799, 'RMSE_pred': 77.15238952636719, 'L0': tensor(22.8700)}\n",
      "\n"
     ]
    }
   ],
   "source": [
    "testloaderAttack = DataLoader(testloader.dataset, batch_size=100, shuffle=False)\n",
    "X, y = next(iter(testloaderAttack))\n",
    "X, y = X.to(device), y.to(device)\n",
    "\n",
    "AttacksParameters = {\n",
    "    \"FGSM\": {\n",
    "        \"Objective\": 300,\n",
    "        \"Epsilon\": 0.1\n",
    "    },\n",
    "    \"BIM\": {\n",
    "        \"Objective\": 300,\n",
    "        \"Iterations\": 100,\n",
    "        \"Epsilon\": 0.002\n",
    "    },\n",
    "    \"CW\": {\n",
    "        \"Objective\": 0,\n",
    "        \"Iterations\": 1000,\n",
    "        \"LearningRate\": 0.01,\n",
    "        \"c\": 0.0001,\n",
    "    }\n",
    "}\n",
    "\n",
    "print(\"RNN\")\n",
    "RNNAdversarialDataFgsm, RNNAdversarialDataBim, RNNAdversarialDataCW = AttacksTool.TestAttacks(MyRNNModel, X, y, AttacksParameters, device)\n",
    "print()\n",
    "\n",
    "AttacksParameters = {\n",
    "    \"FGSM\": {\n",
    "        \"Objective\": 300,\n",
    "        \"Epsilon\": 0.06\n",
    "    },\n",
    "    \"BIM\": {\n",
    "        \"Objective\": 300,\n",
    "        \"Iterations\": 80,\n",
    "        \"Epsilon\": 0.001\n",
    "    },\n",
    "    \"CW\": {\n",
    "        \"Objective\": 0,\n",
    "        \"Iterations\": 1000,\n",
    "        \"LearningRate\": 0.01,\n",
    "        \"c\": 0.001,\n",
    "    }\n",
    "}\n",
    "\n",
    "print(\"GRU\")\n",
    "GRUAdversarialDataFgsm, GRUAdversarialDataBim, GRUAdversarialDataCW = AttacksTool.TestAttacks(MyGRUModel, X, y, AttacksParameters, device)\n",
    "print()\n",
    "\n",
    "AttacksParameters = {\n",
    "    \"FGSM\": {\n",
    "        \"Objective\": 300,\n",
    "        \"Epsilon\": 0.15\n",
    "    },\n",
    "    \"BIM\": {\n",
    "        \"Objective\": 300,\n",
    "        \"Iterations\": 100,\n",
    "        \"Epsilon\": 0.002\n",
    "    },\n",
    "    \"CW\": {\n",
    "        \"Objective\": 0,\n",
    "        \"Iterations\": 1000,\n",
    "        \"LearningRate\": 0.01,\n",
    "        \"c\": 0.0001,\n",
    "    }\n",
    "}\n",
    "\n",
    "print(\"LSTM\")\n",
    "LSTMAdversarialDataFgsm, LSTMAdversarialDataBim, LSTMAdversarialDataCW = AttacksTool.TestAttacks(MyLSTMModel, X, y, AttacksParameters, device)\n",
    "print()"
   ]
  },
  {
   "cell_type": "code",
   "execution_count": 13,
   "id": "93a98970",
   "metadata": {},
   "outputs": [],
   "source": [
    "UtilsTool.CreateDFSFiles(testloaderAttack, X, RNNAdversarialDataFgsm, y, MyRNNModel, minmax_dict, NormalOutputPath + \"/RNN\", AdversarialOutputPath + \"/RNN\" + \"/FGSM\", device)\n",
    "UtilsTool.CreateDFSFiles(testloaderAttack, X, RNNAdversarialDataBim, y, MyRNNModel, minmax_dict, NormalOutputPath + \"/RNN\", AdversarialOutputPath + \"/RNN\" + \"/BIM\", device)\n",
    "UtilsTool.CreateDFSFiles(testloaderAttack, X, RNNAdversarialDataCW, y, MyRNNModel, minmax_dict, NormalOutputPath + \"/RNN\", AdversarialOutputPath + \"/RNN\" + \"/CW\", device)\n",
    "\n",
    "UtilsTool.CreateDFSFiles(testloaderAttack, X, GRUAdversarialDataFgsm, y, MyGRUModel, minmax_dict, NormalOutputPath + \"/GRU\", AdversarialOutputPath + \"/GRU\" + \"/FGSM\", device)\n",
    "UtilsTool.CreateDFSFiles(testloaderAttack, X, GRUAdversarialDataBim, y, MyGRUModel, minmax_dict, NormalOutputPath + \"/GRU\", AdversarialOutputPath + \"/GRU\" + \"/BIM\", device)\n",
    "UtilsTool.CreateDFSFiles(testloaderAttack, X, GRUAdversarialDataCW, y, MyGRUModel, minmax_dict, NormalOutputPath + \"/GRU\", AdversarialOutputPath + \"/GRU\" + \"/CW\", device)\n",
    "\n",
    "UtilsTool.CreateDFSFiles(testloaderAttack, X, LSTMAdversarialDataFgsm, y, MyLSTMModel, minmax_dict, NormalOutputPath + \"/LSTM\", AdversarialOutputPath + \"/LSTM\" + \"/FGSM\", device)\n",
    "UtilsTool.CreateDFSFiles(testloaderAttack, X, LSTMAdversarialDataBim, y, MyLSTMModel, minmax_dict, NormalOutputPath + \"/LSTM\", AdversarialOutputPath + \"/LSTM\" + \"/BIM\", device)\n",
    "UtilsTool.CreateDFSFiles(testloaderAttack, X, LSTMAdversarialDataCW, y, MyLSTMModel, minmax_dict, NormalOutputPath + \"/LSTM\", AdversarialOutputPath + \"/LSTM\" + \"/CW\", device)"
   ]
  },
  {
   "cell_type": "code",
   "execution_count": 14,
   "id": "088c7da7",
   "metadata": {},
   "outputs": [],
   "source": [
    "if DisplayGraph == 1:\n",
    "    y_pred = MyRNNModel(RNNAdversarialDataFgsm)\n",
    "    UtilsTool.DisplayGraph(y_pred, y)\n",
    "    y_pred = MyRNNModel(RNNAdversarialDataBim)\n",
    "    UtilsTool.DisplayGraph(y_pred, y)\n",
    "    y_pred = MyRNNModel(RNNAdversarialDataCW)\n",
    "    UtilsTool.DisplayGraph(y_pred, y)"
   ]
  },
  {
   "cell_type": "code",
   "execution_count": 15,
   "id": "30247cec",
   "metadata": {},
   "outputs": [],
   "source": [
    "if DisplayGraph == 1:\n",
    "    y_pred = MyLSTMModel(LSTMAdversarialDataFgsm)\n",
    "    UtilsTool.DisplayGraph(y_pred, y)\n",
    "    y_pred = MyLSTMModel(LSTMAdversarialDataBim)\n",
    "    UtilsTool.DisplayGraph(y_pred, y)\n",
    "    y_pred = MyLSTMModel(LSTMAdversarialDataCW)\n",
    "    UtilsTool.DisplayGraph(y_pred, y)"
   ]
  },
  {
   "cell_type": "code",
   "execution_count": 16,
   "id": "b19f48e6",
   "metadata": {},
   "outputs": [],
   "source": [
    "if DisplayGraph == 1:\n",
    "    y_pred = MyGRUModel(GRUAdversarialDataFgsm)\n",
    "    UtilsTool.DisplayGraph(y_pred, y)\n",
    "    y_pred = MyGRUModel(GRUAdversarialDataBim)\n",
    "    UtilsTool.DisplayGraph(y_pred, y)\n",
    "    y_pred = MyGRUModel(GRUAdversarialDataCW)\n",
    "    UtilsTool.DisplayGraph(y_pred, y)"
   ]
  },
  {
   "cell_type": "code",
   "execution_count": 17,
   "id": "a87a544a",
   "metadata": {},
   "outputs": [],
   "source": [
    "class ChoiceLoss(nn.Module):\n",
    "    def __init__(self, device):\n",
    "        self.device = device\n",
    "        super(ChoiceLoss, self).__init__()\n",
    "\n",
    "    def forward(self, X, Z):\n",
    "        Focus = torch.tensor([1,1,1,1,1,1,1,1,1,1,1,1,1,1,1,1,1,1,1,1,1,1,1,1])\n",
    "        Focus2D = Focus.unsqueeze(0).repeat(len(X[0]), 1)\n",
    "        Focus2D = Focus2D.to(self.device)\n",
    "        \n",
    "        L2 = ((X - Z) ** 2)\n",
    "        L2*= Focus2D\n",
    "        \n",
    "        loss = torch.sum(L2)\n",
    "        \n",
    "        return loss\n",
    " \n",
    "class L0Loss(nn.Module):\n",
    "    \n",
    "    def tanh(self, x, c):\n",
    "        return torch.tanh(x*c)\n",
    "    \n",
    "    def __init__(self, k, device):\n",
    "        self.k=k\n",
    "        self.device = device\n",
    "        super(L0Loss, self).__init__()\n",
    "\n",
    "    def forward(self, X, Z):\n",
    "        Focus = torch.tensor([1,1,1,1,1,1,1,1,1,1,1,1,1,1,1,1,1,1,1,1,1,1,1,1])\n",
    "        Focus2D = Focus.unsqueeze(0).repeat(len(X[0]), 1)\n",
    "        Focus2D = Focus2D.to(self.device)\n",
    "        \n",
    "        L2 = ((X - Z) ** 2)\n",
    "        L2*= Focus2D\n",
    "        Result = self.tanh(L2, self.k)\n",
    "        Result2 = torch.sum(Result, dim=1)\n",
    "        Result3 = self.tanh(Result2, self.k)\n",
    "\n",
    "        loss = torch.sum(Result3)\n",
    "        return loss\n",
    "\n",
    "def MaillardL2(model, Objective, X, y, LearningRate, c, epochs, device):\n",
    "    model = model.to(device)\n",
    "    X = X.to(device)\n",
    "    \n",
    "    model.train()\n",
    "    Adv = X.clone()\n",
    "    Adv.requires_grad = True\n",
    "    Optimizer = optim.Adam([Adv], lr=LearningRate)\n",
    "    MyLoss = ChoiceLoss(device)\n",
    "    MseLoss = nn.MSELoss()\n",
    "    \n",
    "    Adv = Adv.to(device)\n",
    "    for i in range(epochs):\n",
    "        Optimizer.zero_grad()\n",
    "        Output = model(Adv)\n",
    "        Target = torch.full_like(y, Objective)\n",
    "        \n",
    "        TargetLoss = MseLoss(Output, Target)\n",
    "        DiffLoss = MyLoss(Adv, X)\n",
    "        \n",
    "        loss = c * TargetLoss +  DiffLoss\n",
    "\n",
    "        loss.backward()\n",
    "        Optimizer.step()\n",
    "        with torch.no_grad():\n",
    "            Adv.clamp_(0.0, 1.0)\n",
    "            \n",
    "    return Adv\n",
    "\n",
    "def Project(Adv, X, S, Loss):\n",
    "    L2 = ((Adv - X) ** 2)\n",
    "    Result = Loss.tanh(L2, Loss.k)\n",
    "    Result2 = torch.sum(Result, dim=1)\n",
    "    Result3 = Loss.tanh(Result2, Loss.k)\n",
    "    \n",
    "    ToProject = []\n",
    "    for i in range(len(Result3[0])):\n",
    "        if Result3[0][i] < S:\n",
    "            ToProject.append(i)\n",
    "    \n",
    "    for Ins in range(len(Adv[0])):\n",
    "        for i in ToProject:\n",
    "            Adv[0][Ins][i] = X[0][Ins][i]\n",
    "    return Adv\n",
    "\n",
    "def IterativeMaillardL0(model, Objective, X, y, LearningRate, Init, Min, Steps, epochs, k, P, S, device):\n",
    "    c = Init \n",
    "    LInfos = []\n",
    "    while c > Min:\n",
    "        Adversarials = MaillardL0(model, Objective, X, y, LearningRate, c, epochs, k, P, S, device)\n",
    "        Infos = UtilsTool.GetInfos(X, y, 0, Adversarials, model)\n",
    "        Infos[\"c\"] = c\n",
    "        LInfos.append(Infos)\n",
    "        print(c, Infos)\n",
    "        c/=Steps\n",
    "    return LInfos\n",
    "\n",
    "\n",
    "def IterativeMaillardL2(model, Objective, X, y, LearningRate, Init, Min, Steps, epochs, device):\n",
    "    c = Init\n",
    "    LInfos = []\n",
    "    while c > Min:\n",
    "        Adversarials = MaillardL2(model, Objective, X, y, LearningRate, c, epochs, device)\n",
    "        Infos = UtilsTool.GetInfos(X, y, 0, Adversarials, model)\n",
    "        Infos[\"c\"] = c\n",
    "        LInfos.append(Infos)\n",
    "        c/=Steps\n",
    "    return LInfos\n",
    "\n",
    "def MaillardL0(model, Objective, X, y, LearningRate, c, epochs, k, P, S, device):\n",
    "    model = model.to(device)\n",
    "    model.train()\n",
    "    \n",
    "    LAdversarial =[]\n",
    "    for Instance in range(len(X)):\n",
    "        Adv = X[Instance:Instance+1].clone()\n",
    "        Adv.requires_grad = True\n",
    "        Optimizer = optim.Adam([Adv], lr=LearningRate)\n",
    "        MyLoss = L0Loss(k, device)\n",
    "        MseLoss = nn.MSELoss()\n",
    "        \n",
    "        MinLoss = 100000000\n",
    "        Target = torch.full_like(y[Instance:Instance+1], Objective)\n",
    "        SavedAdv = Adv.clone()\n",
    "        \n",
    "        for i in range(epochs):\n",
    "            token = 0\n",
    "            \n",
    "            with torch.no_grad():\n",
    "                Adv.clamp_(0.0, 1.0)\n",
    "                if random.randint(0, P) == 0:\n",
    "                    Adv = Project(Adv, X[Instance:Instance+1], S, MyLoss)    \n",
    "                    token = 1   \n",
    "            \n",
    "            Output = model(Adv)\n",
    "            \n",
    "            TargetLoss = MseLoss(Output, Target)\n",
    "            DiffLoss = MyLoss(Adv, X[Instance:Instance+1])\n",
    "            \n",
    "            loss = c * TargetLoss +  DiffLoss\n",
    "            \n",
    "            if token == 1 and loss.item() < MinLoss:\n",
    "                MinLoss = loss.item()\n",
    "                SavedAdv = Adv.clone()\n",
    "            \n",
    "            Optimizer.zero_grad()\n",
    "            loss.backward()\n",
    "            Optimizer.step()\n",
    "            \n",
    "        LAdversarial.append(SavedAdv) \n",
    "    FAdversarial = torch.cat(LAdversarial, dim=0)\n",
    "    return FAdversarial"
   ]
  },
  {
   "cell_type": "code",
   "execution_count": 18,
   "id": "76429160",
   "metadata": {},
   "outputs": [],
   "source": [
    "def GetL0(X, Z):\n",
    "    L2 = ((X - Z) ** 2)\n",
    "    Result = torch.sum(L2, dim=1)\n",
    "    Result = torch.sum(Result != 0, dim=1)\n",
    "    Result = Result.float().mean()\n",
    "    return Result\n",
    "\n",
    "def DisplayCgraph(A, B, C, MainLabel, label1, label2):\n",
    "    fig, ax1 = plt.subplots()\n",
    "    ax1.set_xscale('log')\n",
    "\n",
    "    ax1.plot(A, B, 'b-', label=label1)\n",
    "    ax1.set_xlabel('c')\n",
    "    \n",
    "    ax1.set_ylabel(label1, color='b')\n",
    "    ax1.tick_params(axis='y', labelcolor='b')\n",
    "\n",
    "    ax2 = ax1.twinx()\n",
    "    ax2.plot(A, C, 'r-', label=label2)\n",
    "    \n",
    "    ax2.set_ylabel(label2, color='r')\n",
    "    ax2.tick_params(axis='y', labelcolor='r')\n",
    "\n",
    "    plt.title(MainLabel)\n",
    "    fig.tight_layout()\n",
    "\n",
    "    plt.show()\n",
    "\n",
    "def TestNewAttacks(model, X, y, AttacksParameters, device):\n",
    "    X, y = X.to(device).to(torch.float32), y.to(device).to(torch.float32)\n",
    "    LInfos = IterativeMaillardL2(model, AttacksParameters[\"Maillard\"][\"Objective\"], X, y, AttacksParameters[\"Maillard\"][\"LearningRate\"], AttacksParameters[\"Maillard\"][\"Initial_c\"], AttacksParameters[\"Maillard\"][\"Final_c\"], AttacksParameters[\"Maillard\"][\"Steps_c\"], AttacksParameters[\"Maillard\"][\"Iterations\"], device)\n",
    "    A = [item['c'] for item in LInfos]\n",
    "    B = [item['PredRUL'] for item in LInfos]\n",
    "    C = [item['RMSE_adversarial'] for item in LInfos]\n",
    "    DisplayCgraph(A, B, C, 'PredRUL and RMSE evolution', 'RUL', 'RMSE')\n",
    "    \n",
    "    LInfos2 = IterativeMaillardL0(model, AttacksParameters[\"Maillard\"][\"Objective\"], X, y, AttacksParameters[\"Maillard\"][\"LearningRate\"], AttacksParameters[\"Maillard\"][\"Initial_c\"], AttacksParameters[\"Maillard\"][\"Final_c\"], AttacksParameters[\"Maillard\"][\"Steps_c\"], AttacksParameters[\"Maillard\"][\"Iterations\"], AttacksParameters[\"Maillard\"][\"k\"], AttacksParameters[\"Maillard\"][\"P\"], AttacksParameters[\"Maillard\"][\"S\"], device)\n",
    "    A = [item['c'] for item in LInfos2]\n",
    "    B = [item['PredRUL'] for item in LInfos2]\n",
    "    C = [item['L0'] for item in LInfos2]\n",
    "    DisplayCgraph(A, B, C, ' RUL and L0 evolution', 'RUL', 'L0')"
   ]
  },
  {
   "cell_type": "code",
   "execution_count": 19,
   "id": "e13f4b6f",
   "metadata": {},
   "outputs": [
    {
     "name": "stdout",
     "output_type": "stream",
     "text": [
      "1 0.3 1, 0.3, {'RealRUL': 75.5199966430664, 'Objective': 0, 'PredRUL': 2.359086751937866, 'RMSE_adversarial': 0.10449633747339249, 'RMSE_pred': 83.73699188232422, 'L0': tensor(9.0600)}\n",
      "\n",
      "1 0.6 1, 0.6, {'RealRUL': 75.5199966430664, 'Objective': 0, 'PredRUL': 0.323388010263443, 'RMSE_adversarial': 0.06320112943649292, 'RMSE_pred': 85.9336166381836, 'L0': tensor(11.3400)}\n",
      "\n",
      "1 1 1, 1, {'RealRUL': 75.5199966430664, 'Objective': 0, 'PredRUL': 0.21787388622760773, 'RMSE_adversarial': 0.07218281179666519, 'RMSE_pred': 86.02108764648438, 'L0': tensor(10.6700)}\n",
      "\n",
      "1 5 1, 5, {'RealRUL': 75.5199966430664, 'Objective': 0, 'PredRUL': 0.15059970319271088, 'RMSE_adversarial': 0.09399057179689407, 'RMSE_pred': 86.07726287841797, 'L0': tensor(22.6800)}\n",
      "\n",
      "1 10 1, 10, {'RealRUL': 75.5199966430664, 'Objective': 0, 'PredRUL': 0.14717990159988403, 'RMSE_adversarial': 0.09404253214597702, 'RMSE_pred': 86.07791137695312, 'L0': tensor(23.3500)}\n",
      "\n",
      "\n"
     ]
    }
   ],
   "source": [
    "if OptimizeParameters == 1:\n",
    "    KList = {0.3, 0.6, 1, 5, 10}\n",
    "    FixP = 5\n",
    "    FixS = 0.01\n",
    "    Epochs = 1000\n",
    "\n",
    "    c = 1\n",
    "    X, y = X.to(device).to(torch.float32), y.to(device).to(torch.float32)\n",
    "\n",
    "    with open(OptimalParametersPath + \"OptimizeK.txt\", \"w\") as file:\n",
    "        while c > 0.0001:\n",
    "            for k in KList:\n",
    "                CurrentAdversarial = MaillardL0(MyGRUModel, 0, X, y, 0.01, c, Epochs, k, FixP, FixS, device)\n",
    "                info = UtilsTool.GetInfos(X, y, 0, CurrentAdversarial, MyGRUModel)\n",
    "                result = f\"{c}, {k}, {info}\\n\"\n",
    "                file.write(result)\n",
    "                file.flush()\n",
    "                print(c, k, result)\n",
    "            print()\n",
    "            c/=2\n",
    "        \n",
    "if OptimizeParameters == 1:\n",
    "    FixK = 1\n",
    "    PList = [1,2,5,8]\n",
    "    SList = [0.003, 0.01, 0.03, 0.1]\n",
    "    Epochs = 1000\n",
    "\n",
    "    c = 1\n",
    "    X, y = X.to(device).to(torch.float32), y.to(device).to(torch.float32)\n",
    "    with open(OptimalParametersPath + \"OptimizePS.txt\", \"w\") as file:\n",
    "        while c > 0.0001:\n",
    "            for P in PList:\n",
    "                for S in SList:\n",
    "                    CurrentAdversarial = MaillardL0(MyGRUModel, 0, X, y, 0.01, c, Epochs, FixK, P, S, device)\n",
    "                    info = UtilsTool.GetInfos(X, y, 0, CurrentAdversarial, MyGRUModel)\n",
    "                    result = f\"{c}, {P}, {S}, {info}\\n\"\n",
    "                    file.write(result)\n",
    "                    file.flush()\n",
    "                    print(result)\n",
    "            print()\n",
    "            c/=2"
   ]
  },
  {
   "cell_type": "code",
   "execution_count": null,
   "id": "5a61951c",
   "metadata": {},
   "outputs": [
    {
     "data": {
      "text/plain": [
       "'\\nif OptimizeParameters == 1:\\n    FixK = 1\\n    PList = [1,2,5,8]\\n    SList = [0.003, 0.01, 0.03, 0.1]\\n\\n    c = 1\\n    TX, Ty = X[0:5], y[0:5]\\n    TX, Ty = TX.to(device).to(torch.float32), Ty.to(device).to(torch.float32)\\n    while c > 0.0001:\\n        for P in PList:\\n            for S in SList:\\n                CurrentAdversarial = MaillardL0(MyGRUModel, 0, TX, Ty, 0.01, c, 1000, FixK, P, S, device)\\n                print(c, P, S , UtilsTool.GetInfos(TX, Ty, 0, CurrentAdversarial, MyGRUModel))\\n        print()\\n        c/=1.5\\n'"
      ]
     },
     "execution_count": 25,
     "metadata": {},
     "output_type": "execute_result"
    }
   ],
   "source": [
    "\"\"\"\n",
    "if OptimizeParameters == 1:\n",
    "    FixK = 1\n",
    "    PList = [1,2,5,8]\n",
    "    SList = [0.003, 0.01, 0.03, 0.1]\n",
    "\n",
    "    c = 1\n",
    "    TX, Ty = X[0:5], y[0:5]\n",
    "    TX, Ty = TX.to(device).to(torch.float32), Ty.to(device).to(torch.float32)\n",
    "    while c > 0.0001:\n",
    "        for P in PList:\n",
    "            for S in SList:\n",
    "                CurrentAdversarial = MaillardL0(MyGRUModel, 0, TX, Ty, 0.01, c, 1000, FixK, P, S, device)\n",
    "                print(c, P, S , UtilsTool.GetInfos(TX, Ty, 0, CurrentAdversarial, MyGRUModel))\n",
    "        print()\n",
    "        c/=1.5\n",
    "\"\"\""
   ]
  },
  {
   "cell_type": "code",
   "execution_count": null,
   "id": "4a7ba7d5",
   "metadata": {},
   "outputs": [],
   "source": [
    "if DisplayGraph == 1:\n",
    "    AttacksParametersMaillard = {\n",
    "        \"Maillard\": {\n",
    "            \"Objective\": 0,\n",
    "            \"Iterations\": 1000,\n",
    "            \"LearningRate\": 0.01,\n",
    "            \"Initial_c\": 1,\n",
    "            \"Final_c\": 0.0001,\n",
    "            \"Steps_c\":2,\n",
    "            \"k\": 5,\n",
    "            \"P\": 5,\n",
    "            \"S\": 0.03\n",
    "\n",
    "        }\n",
    "    }\n",
    "    TestNewAttacks(MyRNNModel, X, y, AttacksParametersMaillard, device)"
   ]
  },
  {
   "cell_type": "code",
   "execution_count": null,
   "id": "0cccce50",
   "metadata": {},
   "outputs": [],
   "source": [
    "if DisplayGraph == 1:\n",
    "    AttacksParametersMaillard = {\n",
    "        \"Maillard\": {\n",
    "            \"Objective\": 0,\n",
    "            \"Iterations\": 1000,\n",
    "            \"LearningRate\": 0.01,\n",
    "            \"Initial_c\": 1,\n",
    "            \"Final_c\": 0.0001,\n",
    "            \"Steps_c\":2,\n",
    "            \"k\": 5,\n",
    "            \"P\": 5,\n",
    "            \"S\": 0.03\n",
    "\n",
    "        }\n",
    "    }\n",
    "    TX, Ty = X[0:3], y[0:3]\n",
    "    TestNewAttacks(MyGRUModel, TX, Ty, AttacksParametersMaillard, device)"
   ]
  },
  {
   "cell_type": "code",
   "execution_count": null,
   "id": "f3d5e353",
   "metadata": {},
   "outputs": [],
   "source": [
    "if DisplayGraph == 1:\n",
    "    AttacksParametersMaillard = {\n",
    "        \"Maillard\": {\n",
    "            \"Objective\": 0,\n",
    "            \"Iterations\": 1000,\n",
    "            \"LearningRate\": 0.01,\n",
    "            \"Initial_c\": 1,\n",
    "            \"Final_c\": 0.0001,\n",
    "            \"Steps_c\":2,\n",
    "            \"k\": 5,\n",
    "            \"P\": 5,\n",
    "            \"S\": 0.03\n",
    "\n",
    "        }\n",
    "    }\n",
    "    TestNewAttacks(MyLSTMModel, X, y, AttacksParametersMaillard, device)"
   ]
  },
  {
   "cell_type": "code",
   "execution_count": null,
   "id": "f4a61137",
   "metadata": {},
   "outputs": [],
   "source": [
    "RNNAdversarialDataMaillardL2 = MaillardL2(MyRNNModel, 0, X.float(), y.float(), 0.01, 1, 1000, device)\n",
    "GRUAdversarialDataMaillardL2 = MaillardL2(MyGRUModel, 0, X.float(), y.float(), 0.01, 1, 1000, device)\n",
    "LSTMAdversarialDataMaillardL2 = MaillardL2(MyLSTMModel, 0, X.float(), y.float(), 0.01, 1, 1000, device)"
   ]
  },
  {
   "cell_type": "code",
   "execution_count": null,
   "id": "d3c0cf36",
   "metadata": {},
   "outputs": [],
   "source": [
    "RNNAdversarialDataMaillardL0 = MaillardL0(MyRNNModel, 0, X.float(), y.float(), 0.01, 0.01, 1000, 1, 5, 0.03, device)\n",
    "GRUAdversarialDataMaillardL0 = MaillardL0(MyGRUModel, 0, X.float(), y.float(), 0.01, 0.01, 1000, 1, 5, 0.03, device)\n",
    "LSTMAdversarialDataMaillardL0 = MaillardL0(MyLSTMModel, 0, X.float(), y.float(), 0.01, 0.01, 1000, 1, 5, 0.03, device)"
   ]
  },
  {
   "cell_type": "code",
   "execution_count": null,
   "id": "4f2018e7",
   "metadata": {},
   "outputs": [],
   "source": [
    "def DisplayResults(testloaderAttack, X, AdvX, y, minmax_dict, device):\n",
    "    X, y = X.to(device).to(torch.float32), y.to(device).to(torch.float32)\n",
    "    \n",
    "    columns_to_update = ['os1', 'os2', 'os3', 's1', 's2', 's3', 's4', 's5', 's6', 's7', 's8', 's9', 's10', 's11', 's12', 's13', 's14', 's15', 's16', 's17', 's18', 's19', 's20', 's21']\n",
    "    CurrentDataset = testloaderAttack.dataset\n",
    "\n",
    "    for i in range(len(X)):\n",
    "        DF = CurrentDataset.__getdf__(i)\n",
    "        NDF = DataTool.UnnormalizeDataset(DF, minmax_dict)\n",
    "        \n",
    "        DF[columns_to_update] = AdvX[i].cpu().detach().numpy()\n",
    "        ADF = DataTool.UnnormalizeDataset(DF, minmax_dict)\n",
    "        \n",
    "        print(NDF)\n",
    "        print(ADF)"
   ]
  },
  {
   "cell_type": "code",
   "execution_count": null,
   "id": "a14a7760",
   "metadata": {},
   "outputs": [],
   "source": [
    "def round_column(series, decimal_places):\n",
    "    return series.apply(lambda x: float(Decimal(str(x)).quantize(Decimal('1e-{0}'.format(decimal_places)), rounding=ROUND_HALF_UP)))\n",
    "\n",
    "def ApplyDiscrete(DF, minmax_dict):\n",
    "    for c in DF.columns:\n",
    "        if c + 'unit' in minmax_dict:\n",
    "            Dec = minmax_dict[c + 'unit']\n",
    "            if math.isnan(Dec):\n",
    "                Dec = 0\n",
    "            DF[c] = round_column(DF[c], Dec)       \n",
    "    return DF "
   ]
  },
  {
   "cell_type": "code",
   "execution_count": null,
   "id": "0cca9778",
   "metadata": {},
   "outputs": [],
   "source": [
    "def TestProjectionCost(testloaderAttack, X, Adversarial, MyModel):\n",
    "    columns_to_update = ['os1', 'os2', 'os3', 's1', 's2', 's3', 's4', 's5', 's6', 's7', 's8', 's9', 's10', 's11', 's12', 's13', 's14', 's15', 's16', 's17', 's18', 's19', 's20', 's21']\n",
    "    ListADF = []\n",
    "\n",
    "    CurrentDataset = testloaderAttack.dataset\n",
    "    for i in range(len(Adversarial)):\n",
    "        DF = CurrentDataset.__getdf__(i)\n",
    "        DF[columns_to_update] = Adversarial[i].cpu().detach().numpy()\n",
    "        ADF = DataTool.UnnormalizeDataset(DF, minmax_dict)\n",
    "        PDF = ApplyDiscrete(ADF, minmax_dict)\n",
    "        NPDF = DataTool.NormalizeDataset(PDF, minmax_dict)\n",
    "        ListADF.append(NPDF)\n",
    "\n",
    "    FADF = pd.concat(ListADF, ignore_index=True)\n",
    "    FADF = FADF.drop('index', axis=1)\n",
    "    \n",
    "    testdataset2 = DataTool.test(units, FADF)\n",
    "    testloader2 = DataLoader(testdataset2, batch_size = 100)\n",
    "    \n",
    "    for Adv, y in testloader2:\n",
    "        X, Adv, y = X.to(device).to(torch.float32), Adv.to(device).to(torch.float32), y.to(device).to(torch.float32)\n",
    "        Infos = UtilsTool.GetInfos(X, y, 0, Adversarial, MyModel)\n",
    "        print(\"Initial:\", Infos)\n",
    "        Infos = UtilsTool.GetInfos(X, y, 0, Adv, MyModel)\n",
    "        print(\"Formated:\", Infos)\n",
    "    print()\n",
    "    "
   ]
  },
  {
   "cell_type": "code",
   "execution_count": null,
   "id": "5edca58c",
   "metadata": {},
   "outputs": [
    {
     "name": "stdout",
     "output_type": "stream",
     "text": [
      "RNN\n",
      "Initial: {'RealRUL': 75.5199966430664, 'Objective': 0, 'PredRUL': 47.80316162109375, 'RMSE_adversarial': 0.09092852473258972, 'RMSE_pred': 42.452213287353516, 'L0': tensor(23.7200)}\n",
      "Formated: {'RealRUL': 75.5199966430664, 'Objective': 0, 'PredRUL': 49.51344680786133, 'RMSE_adversarial': 0.08046704530715942, 'RMSE_pred': 40.866058349609375, 'L0': tensor(16.)}\n",
      "\n",
      "Initial: {'RealRUL': 75.5199966430664, 'Objective': 0, 'PredRUL': 28.27294158935547, 'RMSE_adversarial': 0.094657301902771, 'RMSE_pred': 60.857696533203125, 'L0': tensor(23.7000)}\n",
      "Formated: {'RealRUL': 75.5199966430664, 'Objective': 0, 'PredRUL': 31.377830505371094, 'RMSE_adversarial': 0.08366050571203232, 'RMSE_pred': 58.04108810424805, 'L0': tensor(16.)}\n",
      "\n",
      "Initial: {'RealRUL': 75.5199966430664, 'Objective': 0, 'PredRUL': 10.619772911071777, 'RMSE_adversarial': 0.10618610680103302, 'RMSE_pred': 77.25652313232422, 'L0': tensor(23.9800)}\n",
      "Formated: {'RealRUL': 75.5199966430664, 'Objective': 0, 'PredRUL': 14.5673828125, 'RMSE_adversarial': 0.09544627368450165, 'RMSE_pred': 73.97430419921875, 'L0': tensor(16.5600)}\n",
      "\n",
      "Initial: {'RealRUL': 75.5199966430664, 'Objective': 0, 'PredRUL': 14.913652420043945, 'RMSE_adversarial': 0.07828199863433838, 'RMSE_pred': 73.8879165649414, 'L0': tensor(23.9400)}\n",
      "Formated: {'RealRUL': 75.5199966430664, 'Objective': 0, 'PredRUL': 20.932537078857422, 'RMSE_adversarial': 0.07108838111162186, 'RMSE_pred': 67.97064208984375, 'L0': tensor(15.9200)}\n",
      "\n",
      "Initial: {'RealRUL': 75.5199966430664, 'Objective': 0, 'PredRUL': 27.584379196166992, 'RMSE_adversarial': 0.08975664526224136, 'RMSE_pred': 66.11058807373047, 'L0': tensor(4.3200)}\n",
      "Formated: {'RealRUL': 75.5199966430664, 'Objective': 0, 'PredRUL': 28.074193954467773, 'RMSE_adversarial': 0.08784811198711395, 'RMSE_pred': 65.44495391845703, 'L0': tensor(4.1900)}\n",
      "\n"
     ]
    }
   ],
   "source": [
    "print(\"RNN\")\n",
    "TestProjectionCost(testloaderAttack, X, RNNAdversarialDataFgsm, MyRNNModel)\n",
    "TestProjectionCost(testloaderAttack, X, RNNAdversarialDataBim, MyRNNModel)\n",
    "TestProjectionCost(testloaderAttack, X, RNNAdversarialDataCW, MyRNNModel)\n",
    "TestProjectionCost(testloaderAttack, X, RNNAdversarialDataMaillardL2, MyRNNModel)\n",
    "TestProjectionCost(testloaderAttack, X, RNNAdversarialDataMaillardL0, MyRNNModel)"
   ]
  },
  {
   "cell_type": "code",
   "execution_count": null,
   "id": "91fdd976",
   "metadata": {},
   "outputs": [
    {
     "name": "stdout",
     "output_type": "stream",
     "text": [
      "GRU\n",
      "Initial: {'RealRUL': 75.5199966430664, 'Objective': 0, 'PredRUL': 22.89347267150879, 'RMSE_adversarial': 0.0545102022588253, 'RMSE_pred': 61.21987533569336, 'L0': tensor(23.9400)}\n",
      "Formated: {'RealRUL': 75.5199966430664, 'Objective': 0, 'PredRUL': 23.43755531311035, 'RMSE_adversarial': 0.051656171679496765, 'RMSE_pred': 60.758182525634766, 'L0': tensor(16.)}\n",
      "\n",
      "Initial: {'RealRUL': 75.5199966430664, 'Objective': 0, 'PredRUL': 8.817352294921875, 'RMSE_adversarial': 0.0562066026031971, 'RMSE_pred': 76.15291595458984, 'L0': tensor(23.8600)}\n",
      "Formated: {'RealRUL': 75.5199966430664, 'Objective': 0, 'PredRUL': 10.106322288513184, 'RMSE_adversarial': 0.051005925983190536, 'RMSE_pred': 74.8314208984375, 'L0': tensor(16.)}\n",
      "\n",
      "Initial: {'RealRUL': 75.5199966430664, 'Objective': 0, 'PredRUL': 0.2721460163593292, 'RMSE_adversarial': 0.055462464690208435, 'RMSE_pred': 85.945068359375, 'L0': tensor(23.8300)}\n",
      "Formated: {'RealRUL': 75.5199966430664, 'Objective': 0, 'PredRUL': 0.630379855632782, 'RMSE_adversarial': 0.05423006787896156, 'RMSE_pred': 85.5800552368164, 'L0': tensor(15.3400)}\n",
      "\n",
      "Initial: {'RealRUL': 75.5199966430664, 'Objective': 0, 'PredRUL': 60.314388275146484, 'RMSE_adversarial': 0.034927308559417725, 'RMSE_pred': 31.53875732421875, 'L0': tensor(23.8700)}\n",
      "Formated: {'RealRUL': 75.5199966430664, 'Objective': 0, 'PredRUL': 61.13900375366211, 'RMSE_adversarial': 0.03469633683562279, 'RMSE_pred': 30.83616828918457, 'L0': tensor(14.6400)}\n",
      "\n",
      "Initial: {'RealRUL': 75.5199966430664, 'Objective': 0, 'PredRUL': 60.53731155395508, 'RMSE_adversarial': 0.0846676304936409, 'RMSE_pred': 32.34431457519531, 'L0': tensor(2.3200)}\n",
      "Formated: {'RealRUL': 75.5199966430664, 'Objective': 0, 'PredRUL': 60.5483512878418, 'RMSE_adversarial': 0.08473049849271774, 'RMSE_pred': 32.350650787353516, 'L0': tensor(2.3200)}\n",
      "\n"
     ]
    }
   ],
   "source": [
    "print(\"GRU\")\n",
    "TestProjectionCost(testloaderAttack, X, GRUAdversarialDataFgsm, MyGRUModel)\n",
    "TestProjectionCost(testloaderAttack, X, GRUAdversarialDataBim, MyGRUModel)\n",
    "TestProjectionCost(testloaderAttack, X, GRUAdversarialDataCW, MyGRUModel)\n",
    "TestProjectionCost(testloaderAttack, X, GRUAdversarialDataMaillardL2, MyRNNModel)\n",
    "TestProjectionCost(testloaderAttack, X, GRUAdversarialDataMaillardL0, MyRNNModel)"
   ]
  },
  {
   "cell_type": "code",
   "execution_count": null,
   "id": "43c2e92d",
   "metadata": {},
   "outputs": [
    {
     "name": "stdout",
     "output_type": "stream",
     "text": [
      "LSTM\n",
      "Initial: {'RealRUL': 75.5199966430664, 'Objective': 0, 'PredRUL': 38.80435562133789, 'RMSE_adversarial': 0.13434146344661713, 'RMSE_pred': 51.77580261230469, 'L0': tensor(23.4300)}\n",
      "Formated: {'RealRUL': 75.5199966430664, 'Objective': 0, 'PredRUL': 38.15455627441406, 'RMSE_adversarial': 0.1235138475894928, 'RMSE_pred': 51.54292678833008, 'L0': tensor(16.)}\n",
      "\n",
      "Initial: {'RealRUL': 75.5199966430664, 'Objective': 0, 'PredRUL': 17.44858169555664, 'RMSE_adversarial': 0.12679541110992432, 'RMSE_pred': 69.95494079589844, 'L0': tensor(22.3000)}\n",
      "Formated: {'RealRUL': 75.5199966430664, 'Objective': 0, 'PredRUL': 20.22705078125, 'RMSE_adversarial': 0.1142820492386818, 'RMSE_pred': 67.28006744384766, 'L0': tensor(16.)}\n",
      "\n",
      "Initial: {'RealRUL': 75.5199966430664, 'Objective': 0, 'PredRUL': 9.360200881958008, 'RMSE_adversarial': 0.11699812859296799, 'RMSE_pred': 77.15238952636719, 'L0': tensor(22.8700)}\n",
      "Formated: {'RealRUL': 75.5199966430664, 'Objective': 0, 'PredRUL': 11.559171676635742, 'RMSE_adversarial': 0.10903051495552063, 'RMSE_pred': 75.18001556396484, 'L0': tensor(16.0100)}\n",
      "\n",
      "Initial: {'RealRUL': 75.5199966430664, 'Objective': 0, 'PredRUL': 38.74411392211914, 'RMSE_adversarial': 0.0723511204123497, 'RMSE_pred': 52.86903762817383, 'L0': tensor(23.0300)}\n",
      "Formated: {'RealRUL': 75.5199966430664, 'Objective': 0, 'PredRUL': 39.80404281616211, 'RMSE_adversarial': 0.07021117955446243, 'RMSE_pred': 51.990291595458984, 'L0': tensor(15.9600)}\n",
      "\n",
      "Initial: {'RealRUL': 75.5199966430664, 'Objective': 0, 'PredRUL': 42.81104278564453, 'RMSE_adversarial': 0.1392149180173874, 'RMSE_pred': 51.255943298339844, 'L0': tensor(3.2400)}\n",
      "Formated: {'RealRUL': 75.5199966430664, 'Objective': 0, 'PredRUL': 42.81318283081055, 'RMSE_adversarial': 0.1392001509666443, 'RMSE_pred': 51.2523307800293, 'L0': tensor(3.2400)}\n",
      "\n"
     ]
    }
   ],
   "source": [
    "print(\"LSTM\")\n",
    "TestProjectionCost(testloaderAttack, X, LSTMAdversarialDataFgsm, MyLSTMModel)\n",
    "TestProjectionCost(testloaderAttack, X, LSTMAdversarialDataBim, MyLSTMModel)\n",
    "TestProjectionCost(testloaderAttack, X, LSTMAdversarialDataCW, MyLSTMModel)\n",
    "TestProjectionCost(testloaderAttack, X, LSTMAdversarialDataMaillardL2, MyRNNModel)\n",
    "TestProjectionCost(testloaderAttack, X, LSTMAdversarialDataMaillardL0, MyRNNModel)"
   ]
  },
  {
   "cell_type": "code",
   "execution_count": null,
   "id": "d091ac2c",
   "metadata": {},
   "outputs": [
    {
     "name": "stdout",
     "output_type": "stream",
     "text": [
      "Transferability RNN\n",
      "{'RealRUL': 75.5199966430664, 'Objective': 0, 'PredRUL': 47.80316162109375, 'RMSE_adversarial': 0.09092852473258972, 'RMSE_pred': 42.452213287353516, 'L0': tensor(23.7200)}\n",
      "{'RealRUL': 75.5199966430664, 'Objective': 0, 'PredRUL': 28.27294158935547, 'RMSE_adversarial': 0.094657301902771, 'RMSE_pred': 60.857696533203125, 'L0': tensor(23.7000)}\n",
      "{'RealRUL': 75.5199966430664, 'Objective': 0, 'PredRUL': 10.619772911071777, 'RMSE_adversarial': 0.10618610680103302, 'RMSE_pred': 77.25652313232422, 'L0': tensor(23.9800)}\n",
      "{'RealRUL': 75.5199966430664, 'Objective': 0, 'PredRUL': 14.913652420043945, 'RMSE_adversarial': 0.07828199863433838, 'RMSE_pred': 73.8879165649414, 'L0': tensor(23.9400)}\n",
      "{'RealRUL': 75.5199966430664, 'Objective': 0, 'PredRUL': 27.584379196166992, 'RMSE_adversarial': 0.08975664526224136, 'RMSE_pred': 66.11058807373047, 'L0': tensor(4.3200)}\n",
      "\n",
      "{'RealRUL': 75.5199966430664, 'Objective': 0, 'PredRUL': 58.03468704223633, 'RMSE_adversarial': 0.0545102022588253, 'RMSE_pred': 33.79283142089844, 'L0': tensor(23.9400)}\n",
      "{'RealRUL': 75.5199966430664, 'Objective': 0, 'PredRUL': 53.1317024230957, 'RMSE_adversarial': 0.0562066026031971, 'RMSE_pred': 37.806644439697266, 'L0': tensor(23.8600)}\n",
      "{'RealRUL': 75.5199966430664, 'Objective': 0, 'PredRUL': 44.7885627746582, 'RMSE_adversarial': 0.055462464690208435, 'RMSE_pred': 46.796546936035156, 'L0': tensor(23.8300)}\n",
      "{'RealRUL': 75.5199966430664, 'Objective': 0, 'PredRUL': 60.314388275146484, 'RMSE_adversarial': 0.034927308559417725, 'RMSE_pred': 31.53875732421875, 'L0': tensor(23.8700)}\n",
      "{'RealRUL': 75.5199966430664, 'Objective': 0, 'PredRUL': 60.53731155395508, 'RMSE_adversarial': 0.0846676304936409, 'RMSE_pred': 32.34431457519531, 'L0': tensor(2.3200)}\n",
      "\n",
      "{'RealRUL': 75.5199966430664, 'Objective': 0, 'PredRUL': 44.05852127075195, 'RMSE_adversarial': 0.13434146344661713, 'RMSE_pred': 47.278076171875, 'L0': tensor(23.4300)}\n",
      "{'RealRUL': 75.5199966430664, 'Objective': 0, 'PredRUL': 41.71586227416992, 'RMSE_adversarial': 0.12679541110992432, 'RMSE_pred': 50.3863525390625, 'L0': tensor(22.3000)}\n",
      "{'RealRUL': 75.5199966430664, 'Objective': 0, 'PredRUL': 44.85041046142578, 'RMSE_adversarial': 0.11699812859296799, 'RMSE_pred': 46.58954620361328, 'L0': tensor(22.8700)}\n",
      "{'RealRUL': 75.5199966430664, 'Objective': 0, 'PredRUL': 38.74411392211914, 'RMSE_adversarial': 0.0723511204123497, 'RMSE_pred': 52.86903762817383, 'L0': tensor(23.0300)}\n",
      "{'RealRUL': 75.5199966430664, 'Objective': 0, 'PredRUL': 42.81104278564453, 'RMSE_adversarial': 0.1392149180173874, 'RMSE_pred': 51.255943298339844, 'L0': tensor(3.2400)}\n"
     ]
    }
   ],
   "source": [
    "print(\"Transferability RNN\")\n",
    "Infos = UtilsTool.GetInfos(X, y, 0, RNNAdversarialDataFgsm, MyRNNModel)\n",
    "print(Infos)\n",
    "Infos = UtilsTool.GetInfos(X, y, 0, RNNAdversarialDataBim, MyRNNModel)\n",
    "print(Infos)\n",
    "Infos = UtilsTool.GetInfos(X, y, 0, RNNAdversarialDataCW, MyRNNModel)\n",
    "print(Infos)\n",
    "Infos = UtilsTool.GetInfos(X, y, 0, RNNAdversarialDataMaillardL2, MyRNNModel)\n",
    "print(Infos)\n",
    "Infos = UtilsTool.GetInfos(X, y, 0, RNNAdversarialDataMaillardL0, MyRNNModel)\n",
    "print(Infos)\n",
    "print()\n",
    "Infos = UtilsTool.GetInfos(X, y, 0, GRUAdversarialDataFgsm, MyRNNModel)\n",
    "print(Infos)\n",
    "Infos = UtilsTool.GetInfos(X, y, 0, GRUAdversarialDataBim, MyRNNModel)\n",
    "print(Infos)\n",
    "Infos = UtilsTool.GetInfos(X, y, 0, GRUAdversarialDataCW, MyRNNModel)\n",
    "print(Infos)\n",
    "Infos = UtilsTool.GetInfos(X, y, 0, GRUAdversarialDataMaillardL2, MyRNNModel)\n",
    "print(Infos)\n",
    "Infos = UtilsTool.GetInfos(X, y, 0, GRUAdversarialDataMaillardL0, MyRNNModel)\n",
    "print(Infos)\n",
    "print()\n",
    "Infos = UtilsTool.GetInfos(X, y, 0, LSTMAdversarialDataFgsm, MyRNNModel)\n",
    "print(Infos)\n",
    "Infos = UtilsTool.GetInfos(X, y, 0, LSTMAdversarialDataBim, MyRNNModel)\n",
    "print(Infos)\n",
    "Infos = UtilsTool.GetInfos(X, y, 0, LSTMAdversarialDataCW, MyRNNModel)\n",
    "print(Infos)\n",
    "Infos = UtilsTool.GetInfos(X, y, 0, LSTMAdversarialDataMaillardL2, MyRNNModel)\n",
    "print(Infos)\n",
    "Infos = UtilsTool.GetInfos(X, y, 0, LSTMAdversarialDataMaillardL0, MyRNNModel)\n",
    "print(Infos)"
   ]
  },
  {
   "cell_type": "code",
   "execution_count": null,
   "id": "71da51a1",
   "metadata": {},
   "outputs": [
    {
     "name": "stdout",
     "output_type": "stream",
     "text": [
      "Transferability GRU\n",
      "{'RealRUL': 75.5199966430664, 'Objective': 0, 'PredRUL': 22.153730392456055, 'RMSE_adversarial': 0.09092852473258972, 'RMSE_pred': 66.33668518066406, 'L0': tensor(23.7200)}\n",
      "{'RealRUL': 75.5199966430664, 'Objective': 0, 'PredRUL': 27.141986846923828, 'RMSE_adversarial': 0.094657301902771, 'RMSE_pred': 63.67589569091797, 'L0': tensor(23.7000)}\n",
      "{'RealRUL': 75.5199966430664, 'Objective': 0, 'PredRUL': 25.213661193847656, 'RMSE_adversarial': 0.10618610680103302, 'RMSE_pred': 65.58560943603516, 'L0': tensor(23.9800)}\n",
      "{'RealRUL': 75.5199966430664, 'Objective': 0, 'PredRUL': 29.597238540649414, 'RMSE_adversarial': 0.07828199863433838, 'RMSE_pred': 58.66758346557617, 'L0': tensor(23.9400)}\n",
      "{'RealRUL': 75.5199966430664, 'Objective': 0, 'PredRUL': 34.82459259033203, 'RMSE_adversarial': 0.08975664526224136, 'RMSE_pred': 65.16228485107422, 'L0': tensor(4.3200)}\n",
      "\n",
      "{'RealRUL': 75.5199966430664, 'Objective': 0, 'PredRUL': 22.89347267150879, 'RMSE_adversarial': 0.0545102022588253, 'RMSE_pred': 61.21987533569336, 'L0': tensor(23.9400)}\n",
      "{'RealRUL': 75.5199966430664, 'Objective': 0, 'PredRUL': 8.817352294921875, 'RMSE_adversarial': 0.0562066026031971, 'RMSE_pred': 76.15291595458984, 'L0': tensor(23.8600)}\n",
      "{'RealRUL': 75.5199966430664, 'Objective': 0, 'PredRUL': 0.2721460163593292, 'RMSE_adversarial': 0.055462464690208435, 'RMSE_pred': 85.945068359375, 'L0': tensor(23.8300)}\n",
      "{'RealRUL': 75.5199966430664, 'Objective': 0, 'PredRUL': 2.3705694675445557, 'RMSE_adversarial': 0.034927308559417725, 'RMSE_pred': 84.01931762695312, 'L0': tensor(23.8700)}\n",
      "{'RealRUL': 75.5199966430664, 'Objective': 0, 'PredRUL': 1.2871066331863403, 'RMSE_adversarial': 0.0846676304936409, 'RMSE_pred': 85.24293518066406, 'L0': tensor(2.3200)}\n",
      "\n",
      "{'RealRUL': 75.5199966430664, 'Objective': 0, 'PredRUL': 16.77767562866211, 'RMSE_adversarial': 0.13434146344661713, 'RMSE_pred': 69.18572235107422, 'L0': tensor(23.4300)}\n",
      "{'RealRUL': 75.5199966430664, 'Objective': 0, 'PredRUL': 14.924470901489258, 'RMSE_adversarial': 0.12679541110992432, 'RMSE_pred': 70.35270690917969, 'L0': tensor(22.3000)}\n",
      "{'RealRUL': 75.5199966430664, 'Objective': 0, 'PredRUL': 2.5039727687835693, 'RMSE_adversarial': 0.11699812859296799, 'RMSE_pred': 84.66281127929688, 'L0': tensor(22.8700)}\n",
      "{'RealRUL': 75.5199966430664, 'Objective': 0, 'PredRUL': 38.74411392211914, 'RMSE_adversarial': 0.0723511204123497, 'RMSE_pred': 52.86903762817383, 'L0': tensor(23.0300)}\n",
      "{'RealRUL': 75.5199966430664, 'Objective': 0, 'PredRUL': 42.81104278564453, 'RMSE_adversarial': 0.1392149180173874, 'RMSE_pred': 51.255943298339844, 'L0': tensor(3.2400)}\n"
     ]
    }
   ],
   "source": [
    "print(\"Transferability GRU\")\n",
    "Infos = UtilsTool.GetInfos(X, y, 0, RNNAdversarialDataFgsm, MyGRUModel)\n",
    "print(Infos)\n",
    "Infos = UtilsTool.GetInfos(X, y, 0, RNNAdversarialDataBim, MyGRUModel)\n",
    "print(Infos)\n",
    "Infos = UtilsTool.GetInfos(X, y, 0, RNNAdversarialDataCW, MyGRUModel)\n",
    "print(Infos)\n",
    "Infos = UtilsTool.GetInfos(X, y, 0, RNNAdversarialDataMaillardL2, MyGRUModel)\n",
    "print(Infos)\n",
    "Infos = UtilsTool.GetInfos(X, y, 0, RNNAdversarialDataMaillardL0, MyGRUModel)\n",
    "print(Infos)\n",
    "print()\n",
    "Infos = UtilsTool.GetInfos(X, y, 0, GRUAdversarialDataFgsm, MyGRUModel)\n",
    "print(Infos)\n",
    "Infos = UtilsTool.GetInfos(X, y, 0, GRUAdversarialDataBim, MyGRUModel)\n",
    "print(Infos)\n",
    "Infos = UtilsTool.GetInfos(X, y, 0, GRUAdversarialDataCW, MyGRUModel)\n",
    "print(Infos)\n",
    "Infos = UtilsTool.GetInfos(X, y, 0, GRUAdversarialDataMaillardL2, MyGRUModel)\n",
    "print(Infos)\n",
    "Infos = UtilsTool.GetInfos(X, y, 0, GRUAdversarialDataMaillardL0, MyGRUModel)\n",
    "print(Infos)\n",
    "print()\n",
    "Infos = UtilsTool.GetInfos(X, y, 0, LSTMAdversarialDataFgsm, MyGRUModel)\n",
    "print(Infos)\n",
    "Infos = UtilsTool.GetInfos(X, y, 0, LSTMAdversarialDataBim, MyGRUModel)\n",
    "print(Infos)\n",
    "Infos = UtilsTool.GetInfos(X, y, 0, LSTMAdversarialDataCW, MyGRUModel)\n",
    "print(Infos)\n",
    "Infos = UtilsTool.GetInfos(X, y, 0, LSTMAdversarialDataMaillardL2, MyRNNModel)\n",
    "print(Infos)\n",
    "Infos = UtilsTool.GetInfos(X, y, 0, LSTMAdversarialDataMaillardL0, MyRNNModel)\n",
    "print(Infos)"
   ]
  },
  {
   "cell_type": "code",
   "execution_count": null,
   "id": "f6504033",
   "metadata": {},
   "outputs": [
    {
     "name": "stdout",
     "output_type": "stream",
     "text": [
      "Transferability LSTM\n",
      "{'RealRUL': 75.5199966430664, 'Objective': 0, 'PredRUL': 42.12148666381836, 'RMSE_adversarial': 0.09092852473258972, 'RMSE_pred': 48.099124908447266, 'L0': tensor(23.7200)}\n",
      "{'RealRUL': 75.5199966430664, 'Objective': 0, 'PredRUL': 32.42097854614258, 'RMSE_adversarial': 0.094657301902771, 'RMSE_pred': 58.23992156982422, 'L0': tensor(23.7000)}\n",
      "{'RealRUL': 75.5199966430664, 'Objective': 0, 'PredRUL': 41.434242248535156, 'RMSE_adversarial': 0.10618610680103302, 'RMSE_pred': 51.004642486572266, 'L0': tensor(23.9800)}\n",
      "{'RealRUL': 75.5199966430664, 'Objective': 0, 'PredRUL': 44.02229309082031, 'RMSE_adversarial': 0.07828199863433838, 'RMSE_pred': 48.177852630615234, 'L0': tensor(23.9400)}\n",
      "{'RealRUL': 75.5199966430664, 'Objective': 0, 'PredRUL': 40.557334899902344, 'RMSE_adversarial': 0.08975664526224136, 'RMSE_pred': 54.969444274902344, 'L0': tensor(4.3200)}\n",
      "\n",
      "{'RealRUL': 75.5199966430664, 'Objective': 0, 'PredRUL': 40.85871124267578, 'RMSE_adversarial': 0.0545102022588253, 'RMSE_pred': 48.65765380859375, 'L0': tensor(23.9400)}\n",
      "{'RealRUL': 75.5199966430664, 'Objective': 0, 'PredRUL': 38.05535888671875, 'RMSE_adversarial': 0.0562066026031971, 'RMSE_pred': 51.678932189941406, 'L0': tensor(23.8600)}\n",
      "{'RealRUL': 75.5199966430664, 'Objective': 0, 'PredRUL': 29.784658432006836, 'RMSE_adversarial': 0.055462464690208435, 'RMSE_pred': 60.40626525878906, 'L0': tensor(23.8300)}\n",
      "{'RealRUL': 75.5199966430664, 'Objective': 0, 'PredRUL': 33.564212799072266, 'RMSE_adversarial': 0.034927308559417725, 'RMSE_pred': 56.353179931640625, 'L0': tensor(23.8700)}\n",
      "{'RealRUL': 75.5199966430664, 'Objective': 0, 'PredRUL': 31.228273391723633, 'RMSE_adversarial': 0.0846676304936409, 'RMSE_pred': 58.86981964111328, 'L0': tensor(2.3200)}\n",
      "\n",
      "{'RealRUL': 75.5199966430664, 'Objective': 0, 'PredRUL': 38.80435562133789, 'RMSE_adversarial': 0.13434146344661713, 'RMSE_pred': 51.77580261230469, 'L0': tensor(23.4300)}\n",
      "{'RealRUL': 75.5199966430664, 'Objective': 0, 'PredRUL': 17.44858169555664, 'RMSE_adversarial': 0.12679541110992432, 'RMSE_pred': 69.95494079589844, 'L0': tensor(22.3000)}\n",
      "{'RealRUL': 75.5199966430664, 'Objective': 0, 'PredRUL': 9.360200881958008, 'RMSE_adversarial': 0.11699812859296799, 'RMSE_pred': 77.15238952636719, 'L0': tensor(22.8700)}\n",
      "{'RealRUL': 75.5199966430664, 'Objective': 0, 'PredRUL': 17.333091735839844, 'RMSE_adversarial': 0.0723511204123497, 'RMSE_pred': 70.45863342285156, 'L0': tensor(23.0300)}\n",
      "{'RealRUL': 75.5199966430664, 'Objective': 0, 'PredRUL': 19.554887771606445, 'RMSE_adversarial': 0.1392149180173874, 'RMSE_pred': 71.43134307861328, 'L0': tensor(3.2400)}\n"
     ]
    }
   ],
   "source": [
    "print(\"Transferability LSTM\")\n",
    "\n",
    "Infos = UtilsTool.GetInfos(X, y, 0, RNNAdversarialDataFgsm, MyLSTMModel)\n",
    "print(Infos)\n",
    "Infos = UtilsTool.GetInfos(X, y, 0, RNNAdversarialDataBim, MyLSTMModel)\n",
    "print(Infos)\n",
    "Infos = UtilsTool.GetInfos(X, y, 0, RNNAdversarialDataCW, MyLSTMModel)\n",
    "print(Infos)\n",
    "Infos = UtilsTool.GetInfos(X, y, 0, RNNAdversarialDataMaillardL2, MyLSTMModel)\n",
    "print(Infos)\n",
    "Infos = UtilsTool.GetInfos(X, y, 0, RNNAdversarialDataMaillardL0, MyLSTMModel)\n",
    "print(Infos)\n",
    "print()\n",
    "Infos = UtilsTool.GetInfos(X, y, 0, GRUAdversarialDataFgsm, MyLSTMModel)\n",
    "print(Infos)\n",
    "Infos = UtilsTool.GetInfos(X, y, 0, GRUAdversarialDataBim, MyLSTMModel)\n",
    "print(Infos)\n",
    "Infos = UtilsTool.GetInfos(X, y, 0, GRUAdversarialDataCW, MyLSTMModel)\n",
    "print(Infos)\n",
    "Infos = UtilsTool.GetInfos(X, y, 0, GRUAdversarialDataMaillardL2, MyLSTMModel)\n",
    "print(Infos)\n",
    "Infos = UtilsTool.GetInfos(X, y, 0, GRUAdversarialDataMaillardL0, MyLSTMModel)\n",
    "print(Infos)\n",
    "print()\n",
    "Infos = UtilsTool.GetInfos(X, y, 0, LSTMAdversarialDataFgsm, MyLSTMModel)\n",
    "print(Infos)\n",
    "Infos = UtilsTool.GetInfos(X, y, 0, LSTMAdversarialDataBim, MyLSTMModel)\n",
    "print(Infos)\n",
    "Infos = UtilsTool.GetInfos(X, y, 0, LSTMAdversarialDataCW, MyLSTMModel)\n",
    "print(Infos)\n",
    "Infos = UtilsTool.GetInfos(X, y, 0, LSTMAdversarialDataMaillardL2, MyLSTMModel)\n",
    "print(Infos)\n",
    "Infos = UtilsTool.GetInfos(X, y, 0, LSTMAdversarialDataMaillardL0, MyLSTMModel)\n",
    "print(Infos)"
   ]
  },
  {
   "cell_type": "code",
   "execution_count": null,
   "id": "cf15ab65",
   "metadata": {},
   "outputs": [],
   "source": [
    "def exp_degradation(x, D0, lambda_):\n",
    "    return D0 * np.exp(lambda_ * x)\n",
    "\n",
    "def prepare_batch(X_batch, y_batch):\n",
    "    X_batch_np = X_batch.view(X_batch.size(0), -1).numpy()\n",
    "    y_batch_np = y_batch.numpy()\n",
    "    \n",
    "    X_batch_np = np.mean(X_batch_np, axis=1)\n",
    "    \n",
    "    return X_batch_np, y_batch_np\n",
    "\n",
    "def prepare_data(loader):\n",
    "    X_list = []\n",
    "    y_list = []\n",
    "    for X_batch, y_batch in loader:\n",
    "        X_list.append(X_batch.view(X_batch.size(0), -1).numpy())\n",
    "        y_list.append(y_batch.numpy())\n",
    "    X_np = np.vstack(X_list)\n",
    "    y_np = np.hstack(y_list)\n",
    "    \n",
    "    X_np = np.mean(X_np, axis=1)\n",
    "    \n",
    "    return X_np, y_np"
   ]
  },
  {
   "cell_type": "code",
   "execution_count": null,
   "id": "808ac37e",
   "metadata": {},
   "outputs": [],
   "source": [
    "def GetStatsInfos(X, y, Objective, AX, Parameters):\n",
    "    X, y, AX = X.cpu(), y.cpu(), AX.cpu()\n",
    "    rmse_adversarials = UtilsTool.PredRmse(X, AX).item()\n",
    "    X_adv_np, y_adv_np = prepare_batch(AX.detach(), y)\n",
    "    output = exp_degradation(X_adv_np, *Parameters)\n",
    "    average = torch.mean(torch.tensor(output).float()).item()\n",
    "    averagey = torch.mean(y.float()).item()\n",
    "    rmse_pred = UtilsTool.PredRmse(y.float(), torch.tensor(output).float()).item()\n",
    "    extra_info = {\n",
    "        'RealRUL': averagey,\n",
    "        'Objective': Objective,\n",
    "        'PredRUL': average,\n",
    "        'RMSE_adversarial': rmse_adversarials,\n",
    "        'RMSE_pred': rmse_pred\n",
    "    }\n",
    "    return extra_info"
   ]
  },
  {
   "cell_type": "code",
   "execution_count": null,
   "id": "188c23da",
   "metadata": {},
   "outputs": [],
   "source": [
    "def TrainStatModel(trainloader):\n",
    "    X_train_np, y_train_np = prepare_data(trainloader)\n",
    "    Param, pcov = curve_fit(exp_degradation, X_train_np, y_train_np, maxfev=10000)\n",
    "    return Param\n",
    "\n",
    "Param = TrainStatModel(trainloader)"
   ]
  },
  {
   "cell_type": "code",
   "execution_count": null,
   "id": "82b1e848",
   "metadata": {},
   "outputs": [
    {
     "name": "stdout",
     "output_type": "stream",
     "text": [
      "{'RealRUL': 75.5199966430664, 'Objective': 0, 'PredRUL': 98.66363525390625, 'RMSE_adversarial': 0.0, 'RMSE_pred': 34.968929290771484}\n"
     ]
    }
   ],
   "source": [
    "print(GetStatsInfos(X, y, 0, X, Param))"
   ]
  },
  {
   "cell_type": "code",
   "execution_count": null,
   "id": "2da934b2",
   "metadata": {},
   "outputs": [],
   "source": [
    "if DisplayGraph == 1:\n",
    "    UtilsTool.DisplayGraph(torch.tensor(y_pred.cpu()), y.cpu())"
   ]
  },
  {
   "cell_type": "code",
   "execution_count": null,
   "id": "2a77a53f",
   "metadata": {},
   "outputs": [
    {
     "name": "stdout",
     "output_type": "stream",
     "text": [
      "{'RealRUL': 75.5199966430664, 'Objective': 0, 'PredRUL': 72.06945037841797, 'RMSE_adversarial': 0.09092851728200912, 'RMSE_pred': 30.323530197143555}\n",
      "{'RealRUL': 75.5199966430664, 'Objective': 0, 'PredRUL': 63.09111785888672, 'RMSE_adversarial': 0.09465730935335159, 'RMSE_pred': 40.2687873840332}\n",
      "{'RealRUL': 75.5199966430664, 'Objective': 0, 'PredRUL': 95.46247100830078, 'RMSE_adversarial': 0.10618611425161362, 'RMSE_pred': 34.7204475402832}\n",
      "{'RealRUL': 75.5199966430664, 'Objective': 0, 'PredRUL': 95.914794921875, 'RMSE_adversarial': 0.08975664526224136, 'RMSE_pred': 34.67224884033203}\n",
      "{'RealRUL': 75.5199966430664, 'Objective': 0, 'PredRUL': 95.5511703491211, 'RMSE_adversarial': 0.07828200608491898, 'RMSE_pred': 33.29011535644531}\n",
      "\n",
      "{'RealRUL': 75.5199966430664, 'Objective': 0, 'PredRUL': 79.91079711914062, 'RMSE_adversarial': 0.0545102059841156, 'RMSE_pred': 28.2359619140625}\n",
      "{'RealRUL': 75.5199966430664, 'Objective': 0, 'PredRUL': 71.84984588623047, 'RMSE_adversarial': 0.056206610053777695, 'RMSE_pred': 35.24363708496094}\n",
      "{'RealRUL': 75.5199966430664, 'Objective': 0, 'PredRUL': 78.1469497680664, 'RMSE_adversarial': 0.05546246096491814, 'RMSE_pred': 35.44723129272461}\n",
      "{'RealRUL': 75.5199966430664, 'Objective': 0, 'PredRUL': 78.14839172363281, 'RMSE_adversarial': 0.0846676230430603, 'RMSE_pred': 40.78536605834961}\n",
      "{'RealRUL': 75.5199966430664, 'Objective': 0, 'PredRUL': 89.70843505859375, 'RMSE_adversarial': 0.034927308559417725, 'RMSE_pred': 30.756723403930664}\n",
      "\n",
      "{'RealRUL': 75.5199966430664, 'Objective': 0, 'PredRUL': 61.138031005859375, 'RMSE_adversarial': 0.13434146344661713, 'RMSE_pred': 33.995296478271484}\n",
      "{'RealRUL': 75.5199966430664, 'Objective': 0, 'PredRUL': 40.03436279296875, 'RMSE_adversarial': 0.12679541110992432, 'RMSE_pred': 47.72214126586914}\n",
      "{'RealRUL': 75.5199966430664, 'Objective': 0, 'PredRUL': 54.712257385253906, 'RMSE_adversarial': 0.11699812859296799, 'RMSE_pred': 37.26607894897461}\n",
      "{'RealRUL': 75.5199966430664, 'Objective': 0, 'PredRUL': 57.3547477722168, 'RMSE_adversarial': 0.1392149180173874, 'RMSE_pred': 45.16073226928711}\n",
      "{'RealRUL': 75.5199966430664, 'Objective': 0, 'PredRUL': 70.62445831298828, 'RMSE_adversarial': 0.0723511204123497, 'RMSE_pred': 30.056472778320312}\n"
     ]
    }
   ],
   "source": [
    "print(GetStatsInfos(X, y, 0, RNNAdversarialDataFgsm,  Param))\n",
    "print(GetStatsInfos(X, y, 0, RNNAdversarialDataBim, Param))\n",
    "print(GetStatsInfos(X, y, 0, RNNAdversarialDataCW, Param))\n",
    "print(GetStatsInfos(X, y, 0, RNNAdversarialDataMaillardL0, Param))\n",
    "print(GetStatsInfos(X, y, 0, RNNAdversarialDataMaillardL2, Param))\n",
    "print()\n",
    "print(GetStatsInfos(X, y, 0, GRUAdversarialDataFgsm,  Param))\n",
    "print(GetStatsInfos(X, y, 0, GRUAdversarialDataBim, Param))\n",
    "print(GetStatsInfos(X, y, 0, GRUAdversarialDataCW, Param))\n",
    "print(GetStatsInfos(X, y, 0, GRUAdversarialDataMaillardL0, Param))\n",
    "print(GetStatsInfos(X, y, 0, GRUAdversarialDataMaillardL2, Param))\n",
    "print()\n",
    "print(GetStatsInfos(X, y, 0, LSTMAdversarialDataFgsm,  Param))\n",
    "print(GetStatsInfos(X, y, 0, LSTMAdversarialDataBim, Param))\n",
    "print(GetStatsInfos(X, y, 0, LSTMAdversarialDataCW, Param))\n",
    "print(GetStatsInfos(X, y, 0, LSTMAdversarialDataMaillardL0, Param))\n",
    "print(GetStatsInfos(X, y, 0, LSTMAdversarialDataMaillardL2, Param))"
   ]
  }
 ],
 "metadata": {
  "kernelspec": {
   "display_name": "Python 3 (ipykernel)",
   "language": "python",
   "name": "python3"
  },
  "language_info": {
   "codemirror_mode": {
    "name": "ipython",
    "version": 3
   },
   "file_extension": ".py",
   "mimetype": "text/x-python",
   "name": "python",
   "nbconvert_exporter": "python",
   "pygments_lexer": "ipython3",
   "version": "3.10.12"
  },
  "papermill": {
   "default_parameters": {},
   "duration": 1671.427631,
   "end_time": "2022-11-23T16:08:50.145405",
   "environment_variables": {},
   "exception": null,
   "input_path": "__notebook__.ipynb",
   "output_path": "__notebook__.ipynb",
   "parameters": {},
   "start_time": "2022-11-23T15:40:58.717774",
   "version": "2.3.4"
  }
 },
 "nbformat": 4,
 "nbformat_minor": 5
}
